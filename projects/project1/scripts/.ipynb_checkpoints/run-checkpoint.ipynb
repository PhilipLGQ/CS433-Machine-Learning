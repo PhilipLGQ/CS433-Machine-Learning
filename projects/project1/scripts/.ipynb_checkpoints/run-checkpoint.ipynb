{
 "cells": [
  {
   "cell_type": "code",
   "execution_count": 1,
   "id": "5b6459be-3eee-4c2f-a970-1404d48872b6",
   "metadata": {},
   "outputs": [],
   "source": [
    "# Useful starting lines\n",
    "%matplotlib inline\n",
    "import numpy as np\n",
    "from numpy.linalg import norm\n",
    "import matplotlib.pyplot as plt\n",
    "%load_ext autoreload\n",
    "%autoreload 2"
   ]
  },
  {
   "cell_type": "code",
   "execution_count": 8,
   "id": "0c9765d9-7553-463b-82a9-2d9647a2ad98",
   "metadata": {},
   "outputs": [],
   "source": [
    "# Import files to use in preprocessing and machine learning\n",
    "from implementations import *\n",
    "from proj1_helpers import *\n",
    "from preprocess import *\n",
    "from cross_validation import *\n",
    "from helpers import *\n",
    "from costs import *"
   ]
  },
  {
   "cell_type": "code",
   "execution_count": 3,
   "id": "7d723975-d741-4a46-a720-d3708d39e514",
   "metadata": {},
   "outputs": [],
   "source": [
    "# Download train data and supply path here \n",
    "DATA_TRAIN_PATH = '../data/train.csv' \n",
    "y, tX, ids = load_csv_data(DATA_TRAIN_PATH)"
   ]
  },
  {
   "cell_type": "code",
   "execution_count": 4,
   "id": "658fc002-e3d2-4c4c-ab82-7e776b1f1141",
   "metadata": {},
   "outputs": [],
   "source": [
    "'''\n",
    "*** Set hyper-parameters\n",
    "'''\n",
    "\n",
    "K_FOLD = 10\n",
    "DEGREE = np.arange(3, 7)\n",
    "DEGREE_jet_0 = np.arange(2, 4)\n",
    "K_CLUSTERS = np.arange(1, 10)\n",
    "SEED = 5\n",
    "LAMBDA = np.logspace(-6, -2, 40)"
   ]
  },
  {
   "cell_type": "code",
   "execution_count": 5,
   "id": "641929e7-f475-4e16-abe0-e4b4f2977dce",
   "metadata": {},
   "outputs": [],
   "source": [
    "features, labels, reordered_ids = split_reformat_data(tX, y, ids)"
   ]
  },
  {
   "cell_type": "code",
   "execution_count": 9,
   "id": "7ec43c09-e733-4da1-869c-8b6ba8e1ccb5",
   "metadata": {},
   "outputs": [
    {
     "ename": "FileNotFoundError",
     "evalue": "[Errno 2] No such file or directory: 'result_1.txt'",
     "output_type": "error",
     "traceback": [
      "\u001b[0;31m---------------------------------------------------------------------------\u001b[0m",
      "\u001b[0;31mFileNotFoundError\u001b[0m                         Traceback (most recent call last)",
      "\u001b[0;32m/var/folders/0m/zxq3kg3515dgv1fvq2yrlzdw0000gn/T/ipykernel_77650/614953457.py\u001b[0m in \u001b[0;36m<module>\u001b[0;34m\u001b[0m\n\u001b[1;32m      8\u001b[0m     \u001b[0;31m# To save time\u001b[0m\u001b[0;34m\u001b[0m\u001b[0;34m\u001b[0m\u001b[0m\n\u001b[1;32m      9\u001b[0m     \u001b[0;32mif\u001b[0m \u001b[0midx\u001b[0m \u001b[0;34m==\u001b[0m \u001b[0;36m0\u001b[0m\u001b[0;34m:\u001b[0m\u001b[0;34m\u001b[0m\u001b[0;34m\u001b[0m\u001b[0m\n\u001b[0;32m---> 10\u001b[0;31m         \u001b[0mopt_d\u001b[0m\u001b[0;34m,\u001b[0m \u001b[0mopt_l\u001b[0m\u001b[0;34m,\u001b[0m \u001b[0mopt_k\u001b[0m \u001b[0;34m=\u001b[0m \u001b[0mfind_optimal_KMC\u001b[0m\u001b[0;34m(\u001b[0m\u001b[0mlabels\u001b[0m\u001b[0;34m[\u001b[0m\u001b[0midx\u001b[0m\u001b[0;34m]\u001b[0m\u001b[0;34m,\u001b[0m \u001b[0mfeatures\u001b[0m\u001b[0;34m[\u001b[0m\u001b[0midx\u001b[0m\u001b[0;34m]\u001b[0m\u001b[0;34m,\u001b[0m \u001b[0mDEGREE_jet_0\u001b[0m\u001b[0;34m,\u001b[0m \u001b[0mK_FOLD\u001b[0m\u001b[0;34m,\u001b[0m \u001b[0mLAMBDA\u001b[0m\u001b[0;34m,\u001b[0m \u001b[0mK_CLUSTERS\u001b[0m\u001b[0;34m)\u001b[0m\u001b[0;34m\u001b[0m\u001b[0;34m\u001b[0m\u001b[0m\n\u001b[0m\u001b[1;32m     11\u001b[0m     \u001b[0;32melse\u001b[0m\u001b[0;34m:\u001b[0m\u001b[0;34m\u001b[0m\u001b[0;34m\u001b[0m\u001b[0m\n\u001b[1;32m     12\u001b[0m         \u001b[0mopt_d\u001b[0m\u001b[0;34m,\u001b[0m \u001b[0mopt_l\u001b[0m\u001b[0;34m,\u001b[0m \u001b[0mopt_k\u001b[0m \u001b[0;34m=\u001b[0m \u001b[0mfind_optimal_KMC\u001b[0m\u001b[0;34m(\u001b[0m\u001b[0mlabels\u001b[0m\u001b[0;34m[\u001b[0m\u001b[0midx\u001b[0m\u001b[0;34m]\u001b[0m\u001b[0;34m,\u001b[0m \u001b[0mfeatures\u001b[0m\u001b[0;34m[\u001b[0m\u001b[0midx\u001b[0m\u001b[0;34m]\u001b[0m\u001b[0;34m,\u001b[0m \u001b[0mDEGREE1\u001b[0m\u001b[0;34m,\u001b[0m \u001b[0mK_FOLD\u001b[0m\u001b[0;34m,\u001b[0m \u001b[0mLAMBDA\u001b[0m\u001b[0;34m,\u001b[0m \u001b[0mK_CLUSTERS\u001b[0m\u001b[0;34m)\u001b[0m\u001b[0;34m\u001b[0m\u001b[0;34m\u001b[0m\u001b[0m\n",
      "\u001b[0;32m~/Downloads/CS433-Machine-Learning/projects/project1/scripts/helpers.py\u001b[0m in \u001b[0;36mfind_optimal_KMC\u001b[0;34m(y, tx, degrees, k_fold, lambdas, k_clusters, seed)\u001b[0m\n\u001b[1;32m     82\u001b[0m     \u001b[0;32mfor\u001b[0m \u001b[0mk_mean\u001b[0m \u001b[0;32min\u001b[0m \u001b[0mk_clusters\u001b[0m\u001b[0;34m:\u001b[0m\u001b[0;34m\u001b[0m\u001b[0;34m\u001b[0m\u001b[0m\n\u001b[1;32m     83\u001b[0m \u001b[0;34m\u001b[0m\u001b[0m\n\u001b[0;32m---> 84\u001b[0;31m         \u001b[0mfilehandler\u001b[0m \u001b[0;34m=\u001b[0m \u001b[0mopen\u001b[0m\u001b[0;34m(\u001b[0m\u001b[0;34mf'result_{k_mean}.txt'\u001b[0m\u001b[0;34m)\u001b[0m\u001b[0;34m\u001b[0m\u001b[0;34m\u001b[0m\u001b[0m\n\u001b[0m\u001b[1;32m     85\u001b[0m \u001b[0;34m\u001b[0m\u001b[0m\n\u001b[1;32m     86\u001b[0m         \u001b[0mx_k\u001b[0m \u001b[0;34m=\u001b[0m \u001b[0mtx\u001b[0m\u001b[0;34m.\u001b[0m\u001b[0mcopy\u001b[0m\u001b[0;34m(\u001b[0m\u001b[0;34m)\u001b[0m\u001b[0;34m\u001b[0m\u001b[0;34m\u001b[0m\u001b[0m\n",
      "\u001b[0;31mFileNotFoundError\u001b[0m: [Errno 2] No such file or directory: 'result_1.txt'"
     ]
    }
   ],
   "source": [
    "ls_opt_degree = []\n",
    "ls_opt_lambda = []\n",
    "ls_opt_k = []\n",
    "\n",
    "\n",
    "for idx in range (len(features)):\n",
    "    \n",
    "    # To save time\n",
    "    if idx == 0:\n",
    "        opt_d, opt_l, opt_k = find_optimal_KMC(labels[idx], features[idx], DEGREE_jet_0, K_FOLD, LAMBDA, K_CLUSTERS)\n",
    "    else:   \n",
    "        opt_d, opt_l, opt_k = find_optimal_KMC(labels[idx], features[idx], DEGREE1, K_FOLD, LAMBDA, K_CLUSTERS)\n",
    "    \n",
    "    ls_opt_degree.append(opt_d)\n",
    "    ls_opt_lambda.append(opt_l)    \n",
    "    ls_opt_k.append(opt_k)    "
   ]
  },
  {
   "cell_type": "code",
   "execution_count": null,
   "id": "fc44ed76-f250-44b3-9ff0-70cdc9effcfc",
   "metadata": {},
   "outputs": [],
   "source": []
  }
 ],
 "metadata": {
  "kernelspec": {
   "display_name": "ML",
   "language": "python",
   "name": "ml"
  },
  "language_info": {
   "codemirror_mode": {
    "name": "ipython",
    "version": 3
   },
   "file_extension": ".py",
   "mimetype": "text/x-python",
   "name": "python",
   "nbconvert_exporter": "python",
   "pygments_lexer": "ipython3",
   "version": "3.9.7"
  }
 },
 "nbformat": 4,
 "nbformat_minor": 5
}
