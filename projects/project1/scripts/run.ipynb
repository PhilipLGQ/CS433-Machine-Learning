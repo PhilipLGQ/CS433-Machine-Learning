{
 "cells": [
  {
   "cell_type": "code",
   "execution_count": null,
   "id": "5b6459be-3eee-4c2f-a970-1404d48872b6",
   "metadata": {},
   "outputs": [],
   "source": [
    "# Useful starting lines\n",
    "%matplotlib inline\n",
    "import numpy as np\n",
    "from numpy.linalg import norm\n",
    "import matplotlib.pyplot as plt\n",
    "%load_ext autoreload\n",
    "%autoreload 2"
   ]
  },
  {
   "cell_type": "code",
   "execution_count": null,
   "id": "0c9765d9-7553-463b-82a9-2d9647a2ad98",
   "metadata": {},
   "outputs": [],
   "source": [
    "# Import files to use in preprocessing and machine learning\n",
    "from implementations import *\n",
    "from proj1_helpers import *\n",
    "from preprocess import *\n",
    "from cross_validation import *\n",
    "from helpers import *\n",
    "from costs import *"
   ]
  },
  {
   "cell_type": "code",
   "execution_count": null,
   "id": "7d723975-d741-4a46-a720-d3708d39e514",
   "metadata": {},
   "outputs": [],
   "source": [
    "# Download train data and supply path here \n",
    "DATA_TRAIN_PATH = '../data/train.csv' \n",
    "y, tX, ids = load_csv_data(DATA_TRAIN_PATH)"
   ]
  },
  {
   "cell_type": "code",
   "execution_count": null,
   "id": "658fc002-e3d2-4c4c-ab82-7e776b1f1141",
   "metadata": {},
   "outputs": [],
   "source": [
    "'''\n",
    "*** Set hyper-parameters\n",
    "'''\n",
    "\n",
    "K_FOLD = 10\n",
    "DEGREE = np.arange(3, 7)\n",
    "DEGREE_jet_0 = np.arange(2, 4)\n",
    "K_CLUSTERS = np.arange(1, 10)\n",
    "SEED = 5\n",
    "LAMBDA = np.logspace(-6, -2, 40)\n",
    "METHOD = 'k_means'\n",
    "MODE = 'std'"
   ]
  },
  {
   "cell_type": "code",
   "execution_count": null,
   "id": "641929e7-f475-4e16-abe0-e4b4f2977dce",
   "metadata": {},
   "outputs": [],
   "source": [
    "features, labels, reordered_ids = split_reformat_data(tX, y, ids)"
   ]
  },
  {
   "cell_type": "code",
   "execution_count": null,
   "id": "7ec43c09-e733-4da1-869c-8b6ba8e1ccb5",
   "metadata": {},
   "outputs": [],
   "source": [
    "ls_opt_degree = []\n",
    "ls_opt_lambda = []\n",
    "ls_opt_k = []\n",
    "\n",
    "\n",
    "for idx in range (len(features)):\n",
    "    \n",
    "    # To save time, we are using a different range of degree for data with jet = 0\n",
    "    if idx == 0:\n",
    "        opt_d, opt_l, opt_k = find_optimal_KMC(labels[idx], features[idx], DEGREE_jet_0, K_FOLD, LAMBDA, K_CLUSTERS)\n",
    "    else:   \n",
    "        opt_d, opt_l, opt_k = find_optimal_KMC(labels[idx], features[idx], DEGREE, K_FOLD, LAMBDA, K_CLUSTERS)\n",
    "    \n",
    "    ls_opt_degree.append(opt_d)\n",
    "    ls_opt_lambda.append(opt_l)    \n",
    "    ls_opt_k.append(opt_k)"
   ]
  },
  {
   "cell_type": "code",
   "execution_count": null,
   "id": "fc44ed76-f250-44b3-9ff0-70cdc9effcfc",
   "metadata": {},
   "outputs": [],
   "source": [
    "ls_opt_degree"
   ]
  },
  {
   "cell_type": "code",
   "execution_count": null,
   "id": "dc3de258-631a-4508-829f-9122fc31e66f",
   "metadata": {},
   "outputs": [],
   "source": [
    "ls_opt_lambda"
   ]
  },
  {
   "cell_type": "code",
   "execution_count": null,
   "id": "58edbbe4-8d4a-43a9-b26d-3402d2cc8e02",
   "metadata": {},
   "outputs": [],
   "source": [
    "ls_opt_k"
   ]
  },
  {
   "cell_type": "code",
   "execution_count": null,
   "id": "874b1d41-3a8f-430b-bc92-e979c9c16b9d",
   "metadata": {},
   "outputs": [],
   "source": [
    "ls_opt_degree"
   ]
  },
  {
   "cell_type": "code",
   "execution_count": null,
   "id": "43f5483f-5950-4ff2-83ac-561ac9d9e85c",
   "metadata": {},
   "outputs": [],
   "source": [
    "ls_opt_lambda"
   ]
  },
  {
   "cell_type": "code",
   "execution_count": null,
   "id": "99a56bc8-1953-4654-8623-26877f508d7e",
   "metadata": {},
   "outputs": [],
   "source": [
    "ls_opt_k"
   ]
  },
  {
   "cell_type": "code",
   "execution_count": null,
   "id": "3ceca114-ef14-4a2c-86e5-00c369b40282",
   "metadata": {},
   "outputs": [],
   "source": [
    "ls_opt_kkkkk = [16, 2, 2, 8]\n",
    "ls_opt_ddddd = [2, 6, 6, 5]\n",
    "ls_opt_lllll = [1e-06, 0.01, 0.0011937766417144358, 0.0019144819761699576]"
   ]
  },
  {
   "cell_type": "code",
   "execution_count": null,
   "id": "6b2fe418-a8ae-451a-b1be-7c55408e1bbf",
   "metadata": {},
   "outputs": [],
   "source": [
    "if METHOD == 'k_means':\n",
    "    TX, Y, r_ids = data_preprocess(tX, y, ids, k_list = ls_opt_k, replacing=METHOD, mode=MODE)\n"
   ]
  },
  {
   "cell_type": "code",
   "execution_count": null,
   "id": "a42d4044-34c2-4c2b-bba8-018afcd27f5b",
   "metadata": {},
   "outputs": [],
   "source": [
    "weights = generate_weights(TX, Y, ls_opt_degree, ls_opt_lambda, ls_opt_k, r_ids)"
   ]
  },
  {
   "cell_type": "code",
   "execution_count": null,
   "id": "9f36cd34-2542-4d31-948e-d6fa87923a86",
   "metadata": {},
   "outputs": [],
   "source": [
    "y_pred = data_pred(TX, weights, r_ids, True, ls_opt_degree)"
   ]
  },
  {
   "cell_type": "code",
   "execution_count": null,
   "id": "fcdf6b4b-04f4-4693-b308-3a40bee7ae28",
   "metadata": {},
   "outputs": [],
   "source": [
    "metric_pred(y_pred, y)"
   ]
  },
  {
   "cell_type": "code",
   "execution_count": null,
   "id": "862f3569-12f9-464e-893e-0735bce17610",
   "metadata": {},
   "outputs": [],
   "source": [
    "DATA_TRAIN_PATH = '../data/test.csv' \n",
    "test_y, test_tX, test_ids = load_csv_data(DATA_TRAIN_PATH)\n",
    "test_tX, _, test_ids_pre = data_preprocess(test_tX, test_y, test_ids, k_list = ls_opt_k, replacing=METHOD, mode='std')\n",
    "test_pred = data_pred(test_tX, weights, test_ids_pre, True, ls_opt_degree)\n",
    "OUTPUT_PATH = 'data/pred.csv'\n",
    "create_csv_submission(test_ids, test_pred, OUTPUT_PATH)"
   ]
  }
 ],
 "metadata": {
  "kernelspec": {
   "display_name": "ML",
   "language": "python",
   "name": "ml"
  },
  "language_info": {
   "codemirror_mode": {
    "name": "ipython",
    "version": 3
   },
   "file_extension": ".py",
   "mimetype": "text/x-python",
   "name": "python",
   "nbconvert_exporter": "python",
   "pygments_lexer": "ipython3",
   "version": "3.9.7"
  }
 },
 "nbformat": 4,
 "nbformat_minor": 5
}
