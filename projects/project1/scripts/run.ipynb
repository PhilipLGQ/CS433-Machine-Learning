{
 "cells": [
  {
   "cell_type": "code",
   "execution_count": 9,
   "id": "5b6459be-3eee-4c2f-a970-1404d48872b6",
   "metadata": {},
   "outputs": [
    {
     "name": "stdout",
     "output_type": "stream",
     "text": [
      "The autoreload extension is already loaded. To reload it, use:\n",
      "  %reload_ext autoreload\n"
     ]
    }
   ],
   "source": [
    "# Useful starting lines\n",
    "%matplotlib inline\n",
    "import numpy as np\n",
    "from numpy.linalg import norm\n",
    "import matplotlib.pyplot as plt\n",
    "%load_ext autoreload\n",
    "%autoreload 2"
   ]
  },
  {
   "cell_type": "code",
   "execution_count": 10,
   "id": "0c9765d9-7553-463b-82a9-2d9647a2ad98",
   "metadata": {},
   "outputs": [],
   "source": [
    "# Import files to use in preprocessing and machine learning\n",
    "from implementations import *\n",
    "from proj1_helpers import *\n",
    "from preprocess import *\n",
    "from cross_validation import *\n",
    "from helpers import *\n",
    "from costs import *"
   ]
  },
  {
   "cell_type": "code",
   "execution_count": 11,
   "id": "7d723975-d741-4a46-a720-d3708d39e514",
   "metadata": {},
   "outputs": [],
   "source": [
    "# Download train data and supply path here \n",
    "DATA_TRAIN_PATH = '../data/train.csv' \n",
    "y, tX, ids = load_csv_data(DATA_TRAIN_PATH)"
   ]
  },
  {
   "cell_type": "code",
   "execution_count": 12,
   "id": "658fc002-e3d2-4c4c-ab82-7e776b1f1141",
   "metadata": {},
   "outputs": [],
   "source": [
    "'''\n",
    "*** Set hyper-parameters\n",
    "'''\n",
    "\n",
    "K_FOLD = 10\n",
    "DEGREE = np.arange(3, 7)\n",
    "DEGREE_jet_0 = np.arange(2, 4)\n",
    "K_CLUSTERS = np.arange(1, 10)\n",
    "SEED = 5\n",
    "LAMBDA = np.logspace(-6, -2, 40)"
   ]
  },
  {
   "cell_type": "code",
   "execution_count": 13,
   "id": "641929e7-f475-4e16-abe0-e4b4f2977dce",
   "metadata": {},
   "outputs": [],
   "source": [
    "features, labels, reordered_ids = split_reformat_data(tX, y, ids)"
   ]
  },
  {
   "cell_type": "code",
   "execution_count": 14,
   "id": "7ec43c09-e733-4da1-869c-8b6ba8e1ccb5",
   "metadata": {},
   "outputs": [
    {
     "ename": "NameError",
     "evalue": "name 'DEGREE1' is not defined",
     "output_type": "error",
     "traceback": [
      "\u001b[0;31m---------------------------------------------------------------------------\u001b[0m",
      "\u001b[0;31mNameError\u001b[0m                                 Traceback (most recent call last)",
      "\u001b[0;32m/var/folders/0m/zxq3kg3515dgv1fvq2yrlzdw0000gn/T/ipykernel_77683/614953457.py\u001b[0m in \u001b[0;36m<module>\u001b[0;34m\u001b[0m\n\u001b[1;32m     10\u001b[0m         \u001b[0mopt_d\u001b[0m\u001b[0;34m,\u001b[0m \u001b[0mopt_l\u001b[0m\u001b[0;34m,\u001b[0m \u001b[0mopt_k\u001b[0m \u001b[0;34m=\u001b[0m \u001b[0mfind_optimal_KMC\u001b[0m\u001b[0;34m(\u001b[0m\u001b[0mlabels\u001b[0m\u001b[0;34m[\u001b[0m\u001b[0midx\u001b[0m\u001b[0;34m]\u001b[0m\u001b[0;34m,\u001b[0m \u001b[0mfeatures\u001b[0m\u001b[0;34m[\u001b[0m\u001b[0midx\u001b[0m\u001b[0;34m]\u001b[0m\u001b[0;34m,\u001b[0m \u001b[0mDEGREE_jet_0\u001b[0m\u001b[0;34m,\u001b[0m \u001b[0mK_FOLD\u001b[0m\u001b[0;34m,\u001b[0m \u001b[0mLAMBDA\u001b[0m\u001b[0;34m,\u001b[0m \u001b[0mK_CLUSTERS\u001b[0m\u001b[0;34m)\u001b[0m\u001b[0;34m\u001b[0m\u001b[0;34m\u001b[0m\u001b[0m\n\u001b[1;32m     11\u001b[0m     \u001b[0;32melse\u001b[0m\u001b[0;34m:\u001b[0m\u001b[0;34m\u001b[0m\u001b[0;34m\u001b[0m\u001b[0m\n\u001b[0;32m---> 12\u001b[0;31m         \u001b[0mopt_d\u001b[0m\u001b[0;34m,\u001b[0m \u001b[0mopt_l\u001b[0m\u001b[0;34m,\u001b[0m \u001b[0mopt_k\u001b[0m \u001b[0;34m=\u001b[0m \u001b[0mfind_optimal_KMC\u001b[0m\u001b[0;34m(\u001b[0m\u001b[0mlabels\u001b[0m\u001b[0;34m[\u001b[0m\u001b[0midx\u001b[0m\u001b[0;34m]\u001b[0m\u001b[0;34m,\u001b[0m \u001b[0mfeatures\u001b[0m\u001b[0;34m[\u001b[0m\u001b[0midx\u001b[0m\u001b[0;34m]\u001b[0m\u001b[0;34m,\u001b[0m \u001b[0mDEGREE1\u001b[0m\u001b[0;34m,\u001b[0m \u001b[0mK_FOLD\u001b[0m\u001b[0;34m,\u001b[0m \u001b[0mLAMBDA\u001b[0m\u001b[0;34m,\u001b[0m \u001b[0mK_CLUSTERS\u001b[0m\u001b[0;34m)\u001b[0m\u001b[0;34m\u001b[0m\u001b[0;34m\u001b[0m\u001b[0m\n\u001b[0m\u001b[1;32m     13\u001b[0m \u001b[0;34m\u001b[0m\u001b[0m\n\u001b[1;32m     14\u001b[0m     \u001b[0mls_opt_degree\u001b[0m\u001b[0;34m.\u001b[0m\u001b[0mappend\u001b[0m\u001b[0;34m(\u001b[0m\u001b[0mopt_d\u001b[0m\u001b[0;34m)\u001b[0m\u001b[0;34m\u001b[0m\u001b[0;34m\u001b[0m\u001b[0m\n",
      "\u001b[0;31mNameError\u001b[0m: name 'DEGREE1' is not defined"
     ]
    }
   ],
   "source": [
    "ls_opt_degree = []\n",
    "ls_opt_lambda = []\n",
    "ls_opt_k = []\n",
    "\n",
    "\n",
    "for idx in range (len(features)):\n",
    "    \n",
    "    # To save time, we are using a different range of degree for data with jet = 0\n",
    "    if idx == 0:\n",
    "        opt_d, opt_l, opt_k = find_optimal_KMC(labels[idx], features[idx], DEGREE_jet_0, K_FOLD, LAMBDA, K_CLUSTERS)\n",
    "    else:   \n",
    "        opt_d, opt_l, opt_k = find_optimal_KMC(labels[idx], features[idx], DEGREE, K_FOLD, LAMBDA, K_CLUSTERS)\n",
    "    \n",
    "    ls_opt_degree.append(opt_d)\n",
    "    ls_opt_lambda.append(opt_l)    \n",
    "    ls_opt_k.append(opt_k)"
   ]
  },
  {
   "cell_type": "code",
   "execution_count": 15,
   "id": "fc44ed76-f250-44b3-9ff0-70cdc9effcfc",
   "metadata": {},
   "outputs": [
    {
     "data": {
      "text/plain": [
       "[2]"
      ]
     },
     "execution_count": 15,
     "metadata": {},
     "output_type": "execute_result"
    }
   ],
   "source": [
    "ls_opt_degree"
   ]
  },
  {
   "cell_type": "code",
   "execution_count": 16,
   "id": "dc3de258-631a-4508-829f-9122fc31e66f",
   "metadata": {},
   "outputs": [
    {
     "data": {
      "text/plain": [
       "[0.0007443803013251688]"
      ]
     },
     "execution_count": 16,
     "metadata": {},
     "output_type": "execute_result"
    }
   ],
   "source": [
    "ls_opt_lambda"
   ]
  },
  {
   "cell_type": "code",
   "execution_count": 17,
   "id": "58edbbe4-8d4a-43a9-b26d-3402d2cc8e02",
   "metadata": {},
   "outputs": [
    {
     "data": {
      "text/plain": [
       "[1]"
      ]
     },
     "execution_count": 17,
     "metadata": {},
     "output_type": "execute_result"
    }
   ],
   "source": [
    "ls_opt_k"
   ]
  },
  {
   "cell_type": "code",
   "execution_count": 22,
   "id": "874b1d41-3a8f-430b-bc92-e979c9c16b9d",
   "metadata": {},
   "outputs": [
    {
     "data": {
      "text/plain": [
       "[2, 6, 5, 5]"
      ]
     },
     "execution_count": 22,
     "metadata": {},
     "output_type": "execute_result"
    }
   ],
   "source": [
    "ls_opt_degree"
   ]
  },
  {
   "cell_type": "code",
   "execution_count": 23,
   "id": "43f5483f-5950-4ff2-83ac-561ac9d9e85c",
   "metadata": {},
   "outputs": [
    {
     "data": {
      "text/plain": [
       "[0.0007443803013251688, 1e-06, 0.01, 1e-06]"
      ]
     },
     "execution_count": 23,
     "metadata": {},
     "output_type": "execute_result"
    }
   ],
   "source": [
    "ls_opt_lambda"
   ]
  },
  {
   "cell_type": "code",
   "execution_count": 24,
   "id": "99a56bc8-1953-4654-8623-26877f508d7e",
   "metadata": {},
   "outputs": [
    {
     "data": {
      "text/plain": [
       "[1, 1, 1, 1]"
      ]
     },
     "execution_count": 24,
     "metadata": {},
     "output_type": "execute_result"
    }
   ],
   "source": [
    "ls_opt_k"
   ]
  },
  {
   "cell_type": "code",
   "execution_count": null,
   "id": "9e3ef210-7bea-4880-a580-318a327fc09d",
   "metadata": {},
   "outputs": [],
   "source": []
  }
 ],
 "metadata": {
  "kernelspec": {
   "display_name": "ML",
   "language": "python",
   "name": "ml"
  },
  "language_info": {
   "codemirror_mode": {
    "name": "ipython",
    "version": 3
   },
   "file_extension": ".py",
   "mimetype": "text/x-python",
   "name": "python",
   "nbconvert_exporter": "python",
   "pygments_lexer": "ipython3",
   "version": "3.9.7"
  }
 },
 "nbformat": 4,
 "nbformat_minor": 5
}
