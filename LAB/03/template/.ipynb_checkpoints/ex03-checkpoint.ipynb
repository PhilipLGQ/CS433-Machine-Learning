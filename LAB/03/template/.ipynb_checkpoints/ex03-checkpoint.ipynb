{
 "cells": [
  {
   "cell_type": "code",
   "execution_count": 1,
   "metadata": {
    "tags": []
   },
   "outputs": [],
   "source": [
    "# Useful starting lines\n",
    "%matplotlib inline\n",
    "import numpy as np\n",
    "import matplotlib.pyplot as plt\n",
    "%load_ext autoreload\n",
    "%autoreload 2"
   ]
  },
  {
   "cell_type": "markdown",
   "metadata": {},
   "source": [
    "# 1 Least squares and linear basis functions models\n",
    "## 1.1 Least squares"
   ]
  },
  {
   "cell_type": "code",
   "execution_count": 2,
   "metadata": {
    "tags": []
   },
   "outputs": [],
   "source": [
    "def least_squares(y, tx):\n",
    "    \"\"\"calculate the least squares solution.\"\"\"\n",
    "    # ***************************************************\n",
    "    # INSERT YOUR CODE HERE\n",
    "    # least squares: TODO\n",
    "    LHS = tx.T.dot(tx)\n",
    "    RHS = tx.T.dot(y)\n",
    "    w = np.linalg.solve(LHS,RHS)\n",
    "    \n",
    "    err = y - tx.dot(w)\n",
    "    loss_mse = err.T.dot(err)/(2*len(y))\n",
    "\n",
    "    return w, loss_mse\n",
    "    # returns mse, and optimal weights\n",
    "    # ***************************************************\n",
    "    # raise NotImplementedError"
   ]
  },
  {
   "cell_type": "markdown",
   "metadata": {},
   "source": [
    "### Load the data\n",
    "Here we will reuse the dataset `height_weight_genders.csv` from previous exercise section to check the correctness of your implementation. Please compare it with your previous result."
   ]
  },
  {
   "cell_type": "code",
   "execution_count": 3,
   "metadata": {},
   "outputs": [],
   "source": [
    "from helpers import *\n",
    "def test_your_least_squares():\n",
    "    height, weight, gender = load_data_from_ex02(sub_sample=False, add_outlier=False)\n",
    "    x, mean_x, std_x = standardize(height)\n",
    "    y, tx = build_model_data(x, weight)\n",
    "    # ***************************************************\n",
    "    # INSERT YOUR CODE HERE\n",
    "    weight, loss = least_squares(y, tx)\n",
    "    print(\"w0*:{}, w1*:{}, loss*:{}\".format(weight[0], weight[1], loss))\n",
    "    # ***************************************************\n",
    "    # raise NotImplementedError"
   ]
  },
  {
   "cell_type": "markdown",
   "metadata": {},
   "source": [
    "Test it here"
   ]
  },
  {
   "cell_type": "code",
   "execution_count": 4,
   "metadata": {},
   "outputs": [
    {
     "name": "stdout",
     "output_type": "stream",
     "text": [
      "w0*:73.29392200210522, w1*:13.47971243498905, loss*:15.3858878688294\n"
     ]
    }
   ],
   "source": [
    "test_your_least_squares()"
   ]
  },
  {
   "cell_type": "code",
   "execution_count": 5,
   "metadata": {},
   "outputs": [],
   "source": [
    "# The result of grid search (10000 data points, 10 intervals):\n",
    "# w0*=66.66666666666669, w1*=16.666666666666686, loss*=42.42448314678248\n",
    "\n",
    "# The result of least square:\n",
    "# w0*:73.29392200210522, w1*:13.47971243498905, loss*:15.3858878688294\n",
    "\n",
    "# The least square method performs better in this case"
   ]
  },
  {
   "cell_type": "markdown",
   "metadata": {},
   "source": [
    "## 1.2 Least squares with a linear basis function model\n",
    "Start from this section, we will use the dataset `dataEx3.csv`.\n",
    "\n",
    "### Implement polynomial basis functions"
   ]
  },
  {
   "cell_type": "code",
   "execution_count": 6,
   "metadata": {
    "scrolled": true
   },
   "outputs": [
    {
     "name": "stdout",
     "output_type": "stream",
     "text": [
      "shape of x (50,)\n",
      "shape of y (50,)\n"
     ]
    }
   ],
   "source": [
    "# load dataset\n",
    "x, y = load_data()\n",
    "print(\"shape of x {}\".format(x.shape))\n",
    "print(\"shape of y {}\".format(y.shape))"
   ]
  },
  {
   "cell_type": "code",
   "execution_count": 35,
   "metadata": {
    "tags": []
   },
   "outputs": [],
   "source": [
    "def build_poly(x, degree):\n",
    "    \"\"\"polynomial basis functions for input data x, for j=0 up to j=degree.\"\"\"\n",
    "    # ***************************************************\n",
    "    # polynomial basis function: TODO\n",
    "    # this function should return the matrix formed\n",
    "    # by applying the polynomial basis to the input data\n",
    "    poly = np.ones((len(x), 1))\n",
    "    \n",
    "    for degrees in range(1, degree):\n",
    "        poly = np.c_[poly, np.power(x, degrees)]\n",
    "    \n",
    "    return poly\n",
    "    # ***************************************************\n",
    "    # raise NotImplementedError"
   ]
  },
  {
   "cell_type": "code",
   "execution_count": 36,
   "metadata": {},
   "outputs": [],
   "source": [
    "def compute_mse(y, tx, w):\n",
    "    err = y - tx.dot(w)\n",
    "    loss = np.mean(err**2) / 2\n",
    "    return loss"
   ]
  },
  {
   "cell_type": "markdown",
   "metadata": {},
   "source": [
    "Let us play with polynomial regression. Note that we will use your implemented function `compute_mse`. Please copy and paste your implementation from exercise02."
   ]
  },
  {
   "cell_type": "code",
   "execution_count": 37,
   "metadata": {
    "tags": []
   },
   "outputs": [],
   "source": [
    "from plots import *\n",
    "\n",
    "def polynomial_regression():\n",
    "    \"\"\"Constructing the polynomial basis function expansion of the data,\n",
    "       and then running least squares regression.\"\"\"\n",
    "    # define parameters\n",
    "    degrees = [1, 3, 7, 12]\n",
    "    \n",
    "    # define the structure of the figure\n",
    "    num_row = 2\n",
    "    num_col = 2\n",
    "    f, axs = plt.subplots(num_row, num_col)\n",
    "\n",
    "    for ind, degree in enumerate(degrees):\n",
    "        # ***************************************************\n",
    "        # INSERT YOUR CODE HERE\n",
    "        # form the data to do polynomial regression.: TODO\n",
    "        x_poly = build_poly(x, degree)\n",
    "        # ***************************************************\n",
    "        # raise NotImplementedError\n",
    "        # ***************************************************\n",
    "        # INSERT YOUR CODE HERE\n",
    "        # least square and calculate RMSE: TODO\n",
    "        weights, _ = least_squares(y, x_poly)\n",
    "        rmse = np.sqrt(2 * compute_mse(y, x_poly, weights))\n",
    "        # ***************************************************\n",
    "        # raise NotImplementedError\n",
    "\n",
    "        print(\"Processing {i}th experiment, degree={d}, rmse={loss}\".format(\n",
    "              i=ind + 1, d=degree, loss=rmse))\n",
    "        # plot fit\n",
    "        plot_fitted_curve(\n",
    "            y, x, weights, degree, axs[ind // num_col][ind % num_col])\n",
    "    plt.tight_layout()\n",
    "    plt.savefig(\"visualize_polynomial_regression\")\n",
    "    plt.show()"
   ]
  },
  {
   "cell_type": "markdown",
   "metadata": {},
   "source": [
    "Run polynomial regression"
   ]
  },
  {
   "cell_type": "code",
   "execution_count": 38,
   "metadata": {},
   "outputs": [
    {
     "name": "stdout",
     "output_type": "stream",
     "text": [
      "Processing 1th experiment, degree=1, rmse=0.7078805834165345\n",
      "Processing 2th experiment, degree=3, rmse=0.46698196895441413\n",
      "Processing 3th experiment, degree=7, rmse=0.24969890274508405\n",
      "Processing 4th experiment, degree=12, rmse=0.24452913643990384\n"
     ]
    },
    {
     "data": {
      "image/png": "[encoded data removed]",
      "text/plain": [
       "<Figure size 432x288 with 4 Axes>"
      ]
     },
     "metadata": {
      "needs_background": "light"
     },
     "output_type": "display_data"
    }
   ],
   "source": [
    "polynomial_regression()"
   ]
  },
  {
   "cell_type": "markdown",
   "metadata": {},
   "source": [
    "# 2 Evaluating model predication performance\n",
    "\n",
    "\n",
    "Let us show the train and test splits for various polynomial degrees. First of all, please fill in the function `split_data()`"
   ]
  },
  {
   "cell_type": "code",
   "execution_count": 40,
   "metadata": {},
   "outputs": [],
   "source": [
    "def split_data(x, y, ratio, seed=1):\n",
    "    \"\"\"\n",
    "    split the dataset based on the split ratio. If ratio is 0.8 \n",
    "    you will have 80% of your data set dedicated to training \n",
    "    and the rest dedicated to testing\n",
    "    \"\"\"\n",
    "    # set seed\n",
    "    np.random.seed(seed)\n",
    "    # ***************************************************\n",
    "    # INSERT YOUR CODE HERE\n",
    "    # split the data based on the given ratio: TODO\n",
    "    rows = len(y)\n",
    "    \n",
    "    # use random indices for data splitting\n",
    "    r_index = np.random.permutation(rows)\n",
    "    \n",
    "    # calculate number of rows for training and testing\n",
    "    r_train = round(ratio * len(y))\n",
    "    r_test = round((1 - ratio) * len(y))\n",
    "    \n",
    "    # split the original dataset\n",
    "    i_train = r_index[:r_train]\n",
    "    i_test = r_index[r_train:]\n",
    "    \n",
    "    x_train = x[i_train]\n",
    "    x_test = x[i_test]\n",
    "    \n",
    "    y_train = y[i_train]\n",
    "    y_test = y[i_test]\n",
    "    \n",
    "    return x_train, x_test, y_train, y_test\n",
    "    # ***************************************************\n",
    "    # raise NotImplementedError"
   ]
  },
  {
   "cell_type": "markdown",
   "metadata": {},
   "source": [
    "Then, test your `split_data` function below."
   ]
  },
  {
   "cell_type": "code",
   "execution_count": 42,
   "metadata": {},
   "outputs": [],
   "source": [
    "def train_test_split_demo(x, y, degree, ratio, seed):\n",
    "    \"\"\"polynomial regression with different split ratios and different degrees.\"\"\"\n",
    "    # ***************************************************\n",
    "    # INSERT YOUR CODE HERE\n",
    "    # split the data, and return train and test data: TODO\n",
    "    x_tr, x_te, y_tr, y_te = split_data(x, y, ratio, seed)\n",
    "    \n",
    "    # ***************************************************\n",
    "    # raise NotImplementedError\n",
    "    # ***************************************************\n",
    "    # INSERT YOUR CODE HERE\n",
    "    # form train and test data with polynomial basis function: TODO\n",
    "    poly_xtr = build_poly(x_tr, degree)\n",
    "    poly_xte = build_poly(x_te, degree)\n",
    "    \n",
    "    # ***************************************************\n",
    "    # raise NotImplementedError\n",
    "    # ***************************************************\n",
    "    # INSERT YOUR CODE HERE\n",
    "    # calculate weight through least square: TODO\n",
    "    weight, _ = least_squares(y_tr, poly_xtr)\n",
    "    \n",
    "    # ***************************************************\n",
    "    # raise NotImplementedError\n",
    "    # ***************************************************\n",
    "    # INSERT YOUR CODE HERE\n",
    "    # calculate RMSE for train and test data,\n",
    "    # and store them in rmse_tr and rmse_te respectively: TODO\n",
    "    rmse_tr = np.sqrt(2 * compute_mse(y_tr, poly_xtr, weight))\n",
    "    rmse_te = np.sqrt(2 * compute_mse(y_te, poly_xte, weight))\n",
    "    \n",
    "    # ***************************************************\n",
    "    # raise NotImplementedError\n",
    "    print(\"proportion={p}, degree={d}, Training RMSE={tr:.3f}, Testing RMSE={te:.3f}\".format(\n",
    "          p=ratio, d=degree, tr=rmse_tr, te=rmse_te))\n"
   ]
  },
  {
   "cell_type": "code",
   "execution_count": 43,
   "metadata": {},
   "outputs": [
    {
     "name": "stdout",
     "output_type": "stream",
     "text": [
      "proportion=0.9, degree=1, Training RMSE=0.734, Testing RMSE=0.403\n",
      "proportion=0.9, degree=3, Training RMSE=0.487, Testing RMSE=0.211\n",
      "proportion=0.9, degree=7, Training RMSE=0.254, Testing RMSE=0.214\n",
      "proportion=0.9, degree=12, Training RMSE=0.242, Testing RMSE=0.253\n",
      "proportion=0.5, degree=1, Training RMSE=0.795, Testing RMSE=0.611\n",
      "proportion=0.5, degree=3, Training RMSE=0.451, Testing RMSE=0.565\n",
      "proportion=0.5, degree=7, Training RMSE=0.233, Testing RMSE=0.282\n",
      "proportion=0.5, degree=12, Training RMSE=0.208, Testing RMSE=0.605\n",
      "proportion=0.1, degree=1, Training RMSE=0.820, Testing RMSE=0.805\n",
      "proportion=0.1, degree=3, Training RMSE=0.279, Testing RMSE=0.686\n",
      "proportion=0.1, degree=7, Training RMSE=0.000, Testing RMSE=2.612\n",
      "proportion=0.1, degree=12, Training RMSE=0.000, Testing RMSE=2.753\n"
     ]
    }
   ],
   "source": [
    "seed = 6\n",
    "degrees = [1, 3, 7, 12]\n",
    "split_ratios = [0.9, 0.5, 0.1]\n",
    "\n",
    "for split_ratio in split_ratios:\n",
    "    for degree in degrees:\n",
    "        train_test_split_demo(x, y, degree, split_ratio, seed)"
   ]
  },
  {
   "cell_type": "markdown",
   "metadata": {},
   "source": [
    "# 3 Ridge Regression\n",
    "Please fill in the function below."
   ]
  },
  {
   "cell_type": "code",
   "execution_count": 45,
   "metadata": {},
   "outputs": [],
   "source": [
    "def ridge_regression(y, tx, lambda_):\n",
    "    \"\"\"implement ridge regression.\"\"\"\n",
    "    # ***************************************************\n",
    "    # INSERT YOUR CODE HERE\n",
    "    # ridge regression: TODO\n",
    "    LHS = tx.T.dot(tx) + 2*tx.shape[0]*lambda_*np.identity(tx.shape[1])\n",
    "    RHS = tx.T.dot(y)\n",
    "    \n",
    "    w_ridge = np.linalg.solve(LHS, RHS)\n",
    "    \n",
    "    return w_ridge\n",
    "    # ***************************************************\n",
    "    # raise NotImplementedError"
   ]
  },
  {
   "cell_type": "code",
   "execution_count": 50,
   "metadata": {},
   "outputs": [],
   "source": [
    "def ridge_regression_demo(x, y, degree, ratio, seed):\n",
    "    \"\"\"ridge regression demo.\"\"\"\n",
    "    # define parameter\n",
    "    lambdas = np.logspace(-5, 0, 15)\n",
    "    # ***************************************************\n",
    "    # INSERT YOUR CODE HERE\n",
    "    # split the data, and return train and test data: TODO\n",
    "    x_tr, x_te, y_tr, y_te = split_data(x, y, ratio, seed)\n",
    "    \n",
    "    # ***************************************************\n",
    "    # raise NotImplementedError\n",
    "    # ***************************************************\n",
    "    # INSERT YOUR CODE HERE\n",
    "    # form train and test data with polynomial basis function: TODO\n",
    "    poly_xtr = build_poly(x_tr, degree)\n",
    "    poly_xte = build_poly(x_te, degree)\n",
    "    \n",
    "    # ***************************************************\n",
    "    # raise NotImplementedError\n",
    "\n",
    "    rmse_tr = []\n",
    "    rmse_te = []\n",
    "    for ind, lambda_ in enumerate(lambdas):\n",
    "        # ***************************************************\n",
    "        # INSERT YOUR CODE HERE\n",
    "        # ridge regression with a given lambda\n",
    "        weight_ridge = ridge_regression(y_tr, poly_xtr, lambda_)\n",
    "        rmse_tr.append(np.sqrt(2 * compute_mse(y_tr, poly_xtr, weight_ridge)))\n",
    "        rmse_te.append(np.sqrt(2 * compute_mse(y_te, poly_xte, weight_ridge)))\n",
    "        \n",
    "        # ***************************************************\n",
    "        print(\"proportion={p}, degree={d}, lambda={l:.3f}, Training RMSE={tr:.3f}, Testing RMSE={te:.3f}\".format(\n",
    "               p=ratio, d=degree, l=lambda_, tr=rmse_tr[ind], te=rmse_te[ind]))\n",
    "        \n",
    "    # Plot the obtained results\n",
    "    plot_train_test(rmse_tr, rmse_te, lambdas, degree)\n",
    "\n",
    "    # raise NotImplementedError\n"
   ]
  },
  {
   "cell_type": "code",
   "execution_count": 51,
   "metadata": {
    "tags": []
   },
   "outputs": [
    {
     "name": "stdout",
     "output_type": "stream",
     "text": [
      "proportion=0.5, degree=7, lambda=0.000, Training RMSE=0.227, Testing RMSE=0.335\n",
      "proportion=0.5, degree=7, lambda=0.000, Training RMSE=0.228, Testing RMSE=0.333\n",
      "proportion=0.5, degree=7, lambda=0.000, Training RMSE=0.228, Testing RMSE=0.332\n",
      "proportion=0.5, degree=7, lambda=0.000, Training RMSE=0.228, Testing RMSE=0.333\n",
      "proportion=0.5, degree=7, lambda=0.000, Training RMSE=0.228, Testing RMSE=0.333\n",
      "proportion=0.5, degree=7, lambda=0.001, Training RMSE=0.228, Testing RMSE=0.334\n",
      "proportion=0.5, degree=7, lambda=0.001, Training RMSE=0.229, Testing RMSE=0.333\n",
      "proportion=0.5, degree=7, lambda=0.003, Training RMSE=0.230, Testing RMSE=0.328\n",
      "proportion=0.5, degree=7, lambda=0.007, Training RMSE=0.233, Testing RMSE=0.314\n",
      "proportion=0.5, degree=7, lambda=0.016, Training RMSE=0.240, Testing RMSE=0.295\n",
      "proportion=0.5, degree=7, lambda=0.037, Training RMSE=0.255, Testing RMSE=0.289\n",
      "proportion=0.5, degree=7, lambda=0.085, Training RMSE=0.274, Testing RMSE=0.310\n",
      "proportion=0.5, degree=7, lambda=0.193, Training RMSE=0.292, Testing RMSE=0.349\n",
      "proportion=0.5, degree=7, lambda=0.439, Training RMSE=0.313, Testing RMSE=0.398\n",
      "proportion=0.5, degree=7, lambda=1.000, Training RMSE=0.337, Testing RMSE=0.450\n"
     ]
    },
    {
     "data": {
      "image/png": "[encoded data removed]",
      "text/plain": [
       "<Figure size 432x288 with 1 Axes>"
      ]
     },
     "metadata": {
      "needs_background": "light"
     },
     "output_type": "display_data"
    }
   ],
   "source": [
    "seed = 56\n",
    "degree = 7\n",
    "split_ratio = 0.5\n",
    "ridge_regression_demo(x, y, degree, split_ratio, seed)"
   ]
  },
  {
   "cell_type": "code",
   "execution_count": null,
   "metadata": {},
   "outputs": [],
   "source": []
  }
 ],
 "metadata": {
  "anaconda-cloud": {},
  "kernelspec": {
   "display_name": "Python 3 (ipykernel)",
   "language": "python",
   "name": "python3"
  },
  "language_info": {
   "codemirror_mode": {
    "name": "ipython",
    "version": 3
   },
   "file_extension": ".py",
   "mimetype": "text/x-python",
   "name": "python",
   "nbconvert_exporter": "python",
   "pygments_lexer": "ipython3",
   "version": "3.7.11"
  }
 },
 "nbformat": 4,
 "nbformat_minor": 4
}
