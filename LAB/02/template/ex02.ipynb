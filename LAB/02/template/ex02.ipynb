{
 "cells": [
  {
   "cell_type": "code",
   "execution_count": 1,
   "metadata": {
    "tags": []
   },
   "outputs": [],
   "source": [
    "# Useful starting lines\n",
    "%matplotlib inline\n",
    "import numpy as np\n",
    "import matplotlib.pyplot as plt\n",
    "%load_ext autoreload\n",
    "%autoreload 2"
   ]
  },
  {
   "cell_type": "markdown",
   "metadata": {},
   "source": [
    "# Load the data"
   ]
  },
  {
   "cell_type": "code",
   "execution_count": 41,
   "metadata": {
    "tags": []
   },
   "outputs": [],
   "source": [
    "import datetime\n",
    "from helpers import *\n",
    "\n",
    "height, weight, gender = load_data(sub_sample=True, add_outlier=True)\n",
    "x, mean_x, std_x = standardize(height)\n",
    "y, tx = build_model_data(x, weight)"
   ]
  },
  {
   "cell_type": "code",
   "execution_count": 42,
   "metadata": {},
   "outputs": [
    {
     "data": {
      "text/plain": [
       "((202,), (202, 2))"
      ]
     },
     "execution_count": 42,
     "metadata": {},
     "output_type": "execute_result"
    }
   ],
   "source": [
    "y.shape, tx.shape"
   ]
  },
  {
   "cell_type": "markdown",
   "metadata": {},
   "source": [
    "# 1 Computing the Cost Function"
   ]
  },
  {
   "cell_type": "markdown",
   "metadata": {},
   "source": [
    "Fill in the `compute_loss` function below:\n",
    "<a id='compute_loss'></a>\n"
   ]
  },
  {
   "cell_type": "code",
   "execution_count": 43,
   "metadata": {
    "tags": []
   },
   "outputs": [],
   "source": [
    "def mse_calculation(e_term):\n",
    "    return 1/2*np.mean(e_term**2)\n",
    "    \n",
    "def compute_loss(y, tx, w):\n",
    "    \"\"\"Calculate the loss.\n",
    "    You can calculate the loss using mse or mae.\n",
    "    \"\"\"\n",
    "    # ***************************************************\n",
    "    # INSERT YOUR CODE HERE\n",
    "    # TODO: compute loss by MSE\n",
    "    e_term = y - tx.dot(w)\n",
    "    loss = mse_calculation(e_term)\n",
    "    return loss\n",
    "    # ***************************************************\n",
    "    # raise NotImplementedError\n",
    "    "
   ]
  },
  {
   "cell_type": "markdown",
   "metadata": {},
   "source": [
    "# 2 Grid Search\n",
    "\n",
    "Fill in the function `grid_search()` below:"
   ]
  },
  {
   "cell_type": "code",
   "execution_count": 44,
   "metadata": {
    "tags": []
   },
   "outputs": [],
   "source": [
    "def grid_search(y, tx, w0, w1):\n",
    "    \"\"\"Algorithm for grid search.\"\"\"\n",
    "    losses = np.zeros((len(w0), len(w1)))\n",
    "    # ***************************************************\n",
    "    # INSERT YOUR CODE HERE\n",
    "    # TODO: compute loss for each combination of w0 and w1.\n",
    "    for i, row in enumerate(w0):\n",
    "        for j, col in enumerate(w1):\n",
    "            w = np.array([row,col])\n",
    "            losses[i][j] = compute_loss(y, tx, w)\n",
    "    return losses\n",
    "    # ***************************************************\n",
    "    # raise NotImplementedError\n",
    "   "
   ]
  },
  {
   "cell_type": "markdown",
   "metadata": {},
   "source": [
    "Let us play with the grid search demo now!"
   ]
  },
  {
   "cell_type": "code",
   "execution_count": 45,
   "metadata": {
    "tags": []
   },
   "outputs": [
    {
     "name": "stdout",
     "output_type": "stream",
     "text": [
      "Grid Search: loss*=109.17758755205352, w0*=66.66666666666669, w1*=16.666666666666686, execution time=0.005 seconds\n"
     ]
    },
    {
     "data": {
      "image/png": "[encoded data removed]",
      "text/plain": [
       "<Figure size 720x432 with 3 Axes>"
      ]
     },
     "metadata": {
      "needs_background": "light"
     },
     "output_type": "display_data"
    }
   ],
   "source": [
    "from grid_search import generate_w, get_best_parameters\n",
    "from plots import grid_visualization\n",
    "\n",
    "# Generate the grid of parameters to be swept\n",
    "grid_w0, grid_w1 = generate_w(num_intervals=10)\n",
    "\n",
    "# Start the grid search\n",
    "start_time = datetime.datetime.now()\n",
    "grid_losses = grid_search(y, tx, grid_w0, grid_w1)\n",
    "\n",
    "# Select the best combinaison\n",
    "loss_star, w0_star, w1_star = get_best_parameters(grid_w0, grid_w1, grid_losses)\n",
    "end_time = datetime.datetime.now()\n",
    "execution_time = (end_time - start_time).total_seconds()\n",
    "\n",
    "# Print the results\n",
    "print(\"Grid Search: loss*={l}, w0*={w0}, w1*={w1}, execution time={t:.3f} seconds\".format(\n",
    "      l=loss_star, w0=w0_star, w1=w1_star, t=execution_time))\n",
    "\n",
    "# Plot the results\n",
    "fig = grid_visualization(grid_losses, grid_w0, grid_w1, mean_x, std_x, height, weight)\n",
    "fig.set_size_inches(10.0,6.0)\n",
    "fig.savefig(\"grid_plot\")  # Optional saving"
   ]
  },
  {
   "cell_type": "markdown",
   "metadata": {},
   "source": [
    "# 3 Gradient Descent"
   ]
  },
  {
   "cell_type": "markdown",
   "metadata": {},
   "source": [
    "Again, please fill in the functions `compute_gradient` below:"
   ]
  },
  {
   "cell_type": "code",
   "execution_count": 46,
   "metadata": {
    "tags": []
   },
   "outputs": [],
   "source": [
    "def compute_gradient(y, tx, w):\n",
    "    \"\"\"Compute the gradient.\"\"\"\n",
    "    # ***************************************************\n",
    "    # INSERT YOUR CODE HERE\n",
    "    # TODO: compute gradient and error vector\n",
    "    e_term = y - tx.dot(w)\n",
    "    gradient = -tx.T.dot(e_term)/len(e_term)\n",
    "    return gradient, e_term\n",
    "    # ***************************************************\n",
    "    # raise NotImplementedError"
   ]
  },
  {
   "cell_type": "markdown",
   "metadata": {},
   "source": [
    "Please fill in the functions `gradient_descent` below:"
   ]
  },
  {
   "cell_type": "code",
   "execution_count": 47,
   "metadata": {
    "tags": []
   },
   "outputs": [],
   "source": [
    "def gradient_descent(y, tx, initial_w, max_iters, gamma):\n",
    "    \"\"\"Gradient descent algorithm.\"\"\"\n",
    "    # Define parameters to store w and loss\n",
    "    ws = [initial_w]\n",
    "    losses = []\n",
    "    w = initial_w\n",
    "    for n_iter in range(max_iters):\n",
    "        # ***************************************************\n",
    "        # INSERT YOUR CODE HERE\n",
    "        # TODO: compute gradient and loss\n",
    "        grad, _ = compute_gradient(y, tx, w)\n",
    "        loss = compute_loss(y, tx, w)\n",
    "        # ***************************************************\n",
    "        # raise NotImplementedError\n",
    "        # ***************************************************\n",
    "        # INSERT YOUR CODE HERE\n",
    "        # TODO: update w by gradient\n",
    "        w = w - gamma * grad\n",
    "        # ***************************************************\n",
    "        # raise NotImplementedError\n",
    "        # store w and loss\n",
    "        ws.append(w)\n",
    "        losses.append(loss)\n",
    "        print(\"Gradient Descent({bi}/{ti}): loss={l}, w0={w0}, w1={w1}\".format(\n",
    "              bi=n_iter, ti=max_iters - 1, l=loss, w0=w[0], w1=w[1]))\n",
    "\n",
    "    return losses, ws"
   ]
  },
  {
   "cell_type": "markdown",
   "metadata": {},
   "source": [
    "Test your gradient descent function through gradient descent demo shown below:"
   ]
  },
  {
   "cell_type": "code",
   "execution_count": 48,
   "metadata": {
    "tags": []
   },
   "outputs": [
    {
     "name": "stdout",
     "output_type": "stream",
     "text": [
      "Gradient Descent(0/49): loss=2869.8351145358524, w0=51.84746409844842, w1=7.7244264061924195\n",
      "Gradient Descent(1/49): loss=318.2821247015965, w0=67.40170332798297, w1=10.041754328050114\n",
      "Gradient Descent(2/49): loss=88.6423556165128, w0=72.06797509684336, w1=10.736952704607411\n",
      "Gradient Descent(3/49): loss=67.9747763988552, w0=73.46785662750146, w1=10.945512217574597\n",
      "Gradient Descent(4/49): loss=66.11469426926604, w0=73.88782108669889, w1=11.00808007146475\n",
      "Gradient Descent(5/49): loss=65.94728687760302, w0=74.01381042445813, w1=11.026850427631798\n",
      "Gradient Descent(6/49): loss=65.93222021235334, w0=74.0516072257859, w1=11.032481534481914\n",
      "Gradient Descent(7/49): loss=65.93086421248087, w0=74.06294626618423, w1=11.034170866536945\n",
      "Gradient Descent(8/49): loss=65.93074217249236, w0=74.06634797830372, w1=11.034677666153454\n",
      "Gradient Descent(9/49): loss=65.93073118889338, w0=74.06736849193958, w1=11.034829706038408\n",
      "Gradient Descent(10/49): loss=65.93073020036948, w0=74.06767464603033, w1=11.034875318003895\n",
      "Gradient Descent(11/49): loss=65.93073011140233, w0=74.06776649225755, w1=11.034889001593541\n",
      "Gradient Descent(12/49): loss=65.93073010339529, w0=74.06779404612573, w1=11.034893106670431\n",
      "Gradient Descent(13/49): loss=65.93073010267466, w0=74.06780231228618, w1=11.034894338193501\n",
      "Gradient Descent(14/49): loss=65.93073010260979, w0=74.06780479213431, w1=11.034894707650421\n",
      "Gradient Descent(15/49): loss=65.93073010260395, w0=74.06780553608874, w1=11.034894818487496\n",
      "Gradient Descent(16/49): loss=65.93073010260342, w0=74.06780575927507, w1=11.03489485173862\n",
      "Gradient Descent(17/49): loss=65.93073010260338, w0=74.06780582623098, w1=11.034894861713957\n",
      "Gradient Descent(18/49): loss=65.93073010260338, w0=74.06780584631775, w1=11.034894864706557\n",
      "Gradient Descent(19/49): loss=65.93073010260336, w0=74.06780585234378, w1=11.034894865604338\n",
      "Gradient Descent(20/49): loss=65.93073010260338, w0=74.06780585415159, w1=11.034894865873675\n",
      "Gradient Descent(21/49): loss=65.93073010260336, w0=74.06780585469393, w1=11.034894865954474\n",
      "Gradient Descent(22/49): loss=65.93073010260338, w0=74.06780585485663, w1=11.034894865978712\n",
      "Gradient Descent(23/49): loss=65.93073010260336, w0=74.06780585490544, w1=11.034894865985985\n",
      "Gradient Descent(24/49): loss=65.93073010260338, w0=74.0678058549201, w1=11.034894865988166\n",
      "Gradient Descent(25/49): loss=65.93073010260336, w0=74.06780585492449, w1=11.034894865988822\n",
      "Gradient Descent(26/49): loss=65.93073010260336, w0=74.06780585492581, w1=11.034894865989015\n",
      "Gradient Descent(27/49): loss=65.93073010260336, w0=74.06780585492619, w1=11.034894865989076\n",
      "Gradient Descent(28/49): loss=65.93073010260338, w0=74.06780585492632, w1=11.034894865989099\n",
      "Gradient Descent(29/49): loss=65.93073010260339, w0=74.06780585492635, w1=11.0348948659891\n",
      "Gradient Descent(30/49): loss=65.93073010260338, w0=74.06780585492636, w1=11.0348948659891\n",
      "Gradient Descent(31/49): loss=65.93073010260339, w0=74.06780585492636, w1=11.0348948659891\n",
      "Gradient Descent(32/49): loss=65.93073010260339, w0=74.06780585492636, w1=11.0348948659891\n",
      "Gradient Descent(33/49): loss=65.93073010260339, w0=74.06780585492636, w1=11.0348948659891\n",
      "Gradient Descent(34/49): loss=65.93073010260339, w0=74.06780585492636, w1=11.0348948659891\n",
      "Gradient Descent(35/49): loss=65.93073010260339, w0=74.06780585492636, w1=11.0348948659891\n",
      "Gradient Descent(36/49): loss=65.93073010260339, w0=74.06780585492636, w1=11.0348948659891\n",
      "Gradient Descent(37/49): loss=65.93073010260339, w0=74.06780585492636, w1=11.0348948659891\n",
      "Gradient Descent(38/49): loss=65.93073010260339, w0=74.06780585492636, w1=11.0348948659891\n",
      "Gradient Descent(39/49): loss=65.93073010260339, w0=74.06780585492636, w1=11.0348948659891\n",
      "Gradient Descent(40/49): loss=65.93073010260339, w0=74.06780585492636, w1=11.0348948659891\n",
      "Gradient Descent(41/49): loss=65.93073010260339, w0=74.06780585492636, w1=11.0348948659891\n",
      "Gradient Descent(42/49): loss=65.93073010260339, w0=74.06780585492636, w1=11.0348948659891\n",
      "Gradient Descent(43/49): loss=65.93073010260339, w0=74.06780585492636, w1=11.0348948659891\n",
      "Gradient Descent(44/49): loss=65.93073010260339, w0=74.06780585492636, w1=11.0348948659891\n",
      "Gradient Descent(45/49): loss=65.93073010260339, w0=74.06780585492636, w1=11.0348948659891\n",
      "Gradient Descent(46/49): loss=65.93073010260339, w0=74.06780585492636, w1=11.0348948659891\n",
      "Gradient Descent(47/49): loss=65.93073010260339, w0=74.06780585492636, w1=11.0348948659891\n",
      "Gradient Descent(48/49): loss=65.93073010260339, w0=74.06780585492636, w1=11.0348948659891\n",
      "Gradient Descent(49/49): loss=65.93073010260339, w0=74.06780585492636, w1=11.0348948659891\n",
      "Gradient Descent: execution time=0.022 seconds\n"
     ]
    }
   ],
   "source": [
    "# from gradient_descent import *\n",
    "from plots import gradient_descent_visualization\n",
    "\n",
    "# Define the parameters of the algorithm.\n",
    "max_iters = 50\n",
    "gamma = 0.7\n",
    "\n",
    "# Initialization\n",
    "w_initial = np.array([0, 0])\n",
    "\n",
    "# Start gradient descent.\n",
    "start_time = datetime.datetime.now()\n",
    "gradient_losses, gradient_ws = gradient_descent(y, tx, w_initial, max_iters, gamma)\n",
    "end_time = datetime.datetime.now()\n",
    "\n",
    "# Print result\n",
    "exection_time = (end_time - start_time).total_seconds()\n",
    "print(\"Gradient Descent: execution time={t:.3f} seconds\".format(t=exection_time))"
   ]
  },
  {
   "cell_type": "code",
   "execution_count": 49,
   "metadata": {
    "tags": []
   },
   "outputs": [
    {
     "data": {
      "application/vnd.jupyter.widget-view+json": {
       "model_id": "7569768afdd142bba29980d837869e3a",
       "version_major": 2,
       "version_minor": 0
      },
      "text/plain": [
       "interactive(children=(IntSlider(value=1, description='n_iter', max=51, min=1), Output()), _dom_classes=('widge…"
      ]
     },
     "metadata": {},
     "output_type": "display_data"
    },
    {
     "data": {
      "text/plain": [
       "<function __main__.plot_figure(n_iter)>"
      ]
     },
     "execution_count": 49,
     "metadata": {},
     "output_type": "execute_result"
    },
    {
     "data": {
      "image/png": "[encoded data removed]",
      "text/plain": [
       "<Figure size 720x432 with 3 Axes>"
      ]
     },
     "metadata": {
      "needs_background": "light"
     },
     "output_type": "display_data"
    }
   ],
   "source": [
    "# Time Visualization\n",
    "from ipywidgets import IntSlider, interact\n",
    "\n",
    "def plot_figure(n_iter):\n",
    "    fig = gradient_descent_visualization(\n",
    "        gradient_losses, gradient_ws, grid_losses, grid_w0, grid_w1, mean_x, std_x, height, weight, n_iter)\n",
    "    fig.set_size_inches(10.0, 6.0)\n",
    "\n",
    "interact(plot_figure, n_iter=IntSlider(min=1, max=len(gradient_ws)))"
   ]
  },
  {
   "cell_type": "markdown",
   "metadata": {},
   "source": [
    "# 4 Stochastic gradient descent"
   ]
  },
  {
   "cell_type": "code",
   "execution_count": 38,
   "metadata": {},
   "outputs": [],
   "source": [
    "def compute_stoch_gradient(y, tx, w):\n",
    "    \"\"\"Compute a stochastic gradient from just few examples n and their corresponding y_n labels.\"\"\"\n",
    "    # ***************************************************\n",
    "    # INSERT YOUR CODE HERE\n",
    "    # TODO: implement stochastic gradient computation.It's same as the gradient descent.\n",
    "    e_term = y - tx.dot(w)\n",
    "    gradient = -tx.T.dot(e_term)/len(e_term)\n",
    "    return gradient, e_term\n",
    "    # ***************************************************\n",
    "    # raise NotImplementedError\n",
    "\n",
    "\n",
    "def stochastic_gradient_descent(\n",
    "        y, tx, initial_w, batch_size, max_iters, gamma):\n",
    "    \"\"\"Stochastic gradient descent algorithm.\"\"\"\n",
    "    # ***************************************************\n",
    "    # INSERT YOUR CODE HERE\n",
    "    # TODO: implement stochastic gradient descent.\n",
    "    ws = [initial_w]\n",
    "    losses = []\n",
    "    w = initial_w\n",
    "    for index_iter in range(max_iters):\n",
    "        for y_batch, tx_batch in batch_iter(y, tx, batch_size, num_batches=1):\n",
    "            grad, _ = compute_stoch_gradient(y_batch, tx_batch, w)\n",
    "            loss = compute_loss(y_batch, tx_batch, w)\n",
    "            w = w - gamma * grad\n",
    "            ws.append(w)\n",
    "            losses.append(loss)\n",
    "        print(\"Gradient Descent({bi}/{ti}): loss={l}, w0={w0}, w1={w1}\".format(\n",
    "              bi=index_iter, ti=max_iters-1, l=loss, w0=w[0], w1=w[1]))\n",
    "    # ***************************************************\n",
    "    # raise NotImplementedError\n",
    "    return losses, ws"
   ]
  },
  {
   "cell_type": "code",
   "execution_count": 39,
   "metadata": {},
   "outputs": [
    {
     "name": "stdout",
     "output_type": "stream",
     "text": [
      "Gradient Descent(0/49): loss=1481.0696437689326, w0=38.09787724917956, w1=-30.697214639565843\n",
      "Gradient Descent(1/49): loss=22.316626829366097, w0=42.77444589432728, w1=-33.519459024142684\n",
      "Gradient Descent(2/49): loss=84.19671551969702, w0=33.690791276867245, w1=-26.032953749227026\n",
      "Gradient Descent(3/49): loss=4.733618290019252, w0=31.536970039108905, w1=-24.024377856076324\n",
      "Gradient Descent(4/49): loss=1026.0713979027892, w0=63.24737795109789, w1=-15.585114494239088\n",
      "Gradient Descent(5/49): loss=520.4602904985518, w0=85.8316885380647, w1=-0.5820278625910404\n",
      "Gradient Descent(6/49): loss=350.02399203580734, w0=67.31079460188842, w1=0.7224395831927335\n",
      "Gradient Descent(7/49): loss=0.84400506543784, w0=66.40133049367464, w1=1.3076556761481275\n",
      "Gradient Descent(8/49): loss=135.66115887547352, w0=54.871025393723286, w1=14.29691016368913\n",
      "Gradient Descent(9/49): loss=455.0692538948873, w0=75.9889767341585, w1=50.89964486947679\n",
      "Gradient Descent(10/49): loss=2063.668454863173, w0=31.01792953970339, w1=-26.5608048034113\n",
      "Gradient Descent(11/49): loss=4490.121944582188, w0=97.35283366785107, w1=62.63347628698493\n",
      "Gradient Descent(12/49): loss=4616.909631171303, w0=30.087898980096597, w1=-53.953616830508295\n",
      "Gradient Descent(13/49): loss=4750.489749750271, w0=98.31897661159282, w1=-0.03369582398438098\n",
      "Gradient Descent(14/49): loss=335.7510656663987, w0=80.17962589683263, w1=-0.3672065963198141\n",
      "Gradient Descent(15/49): loss=140.24479589826123, w0=68.45614945081647, w1=3.579743109014097\n",
      "Gradient Descent(16/49): loss=208.2072767718078, w0=82.74051612338448, w1=29.912882899713214\n",
      "Gradient Descent(17/49): loss=10.166569229945518, w0=79.58405642217703, w1=31.99246276790617\n",
      "Gradient Descent(18/49): loss=24.13589006347411, w0=84.44750913215628, w1=27.697040153623686\n",
      "Gradient Descent(19/49): loss=86.92509339994369, w0=75.21785087564729, w1=24.4975941818089\n",
      "Gradient Descent(20/49): loss=56.49763079058911, w0=82.65879692939457, w1=17.02056715299942\n",
      "Gradient Descent(21/49): loss=13.722461320043857, w0=78.99164379738018, w1=23.528248187177898\n",
      "Gradient Descent(22/49): loss=6.5226271201302435, w0=81.51991881757233, w1=20.918500733948044\n",
      "Gradient Descent(23/49): loss=191.66429084353098, w0=67.81477361488804, w1=2.49048625711378\n",
      "Gradient Descent(24/49): loss=505.27433566278523, w0=90.067163350589, w1=49.52594498814547\n",
      "Gradient Descent(25/49): loss=0.5895432528001842, w0=90.82726359907217, w1=49.025165848164875\n",
      "Gradient Descent(26/49): loss=2876.910161035245, w0=37.729505098222624, w1=-42.43315026161312\n",
      "Gradient Descent(27/49): loss=10.712547716502016, w0=40.96961262146502, w1=-44.62270605918575\n",
      "Gradient Descent(28/49): loss=8132.00330038094, w0=130.24090271169123, w1=104.27432019065267\n",
      "Gradient Descent(29/49): loss=338.00223952451154, w0=148.44096300648206, w1=86.96042896891053\n",
      "Gradient Descent(30/49): loss=213.24754626946412, w0=162.89719333613837, w1=67.5141979327605\n",
      "Gradient Descent(31/49): loss=4988.138674181925, w0=92.98027191722659, w1=52.555870717258394\n",
      "Gradient Descent(32/49): loss=444.97790441046277, w0=113.86276090494674, w1=24.465165450063072\n",
      "Gradient Descent(33/49): loss=1371.0525465653463, w0=77.2071815801831, w1=22.979463546895865\n",
      "Gradient Descent(34/49): loss=47.064055881507215, w0=70.41580655270324, w1=16.360088389455015\n",
      "Gradient Descent(35/49): loss=25.26630498230923, w0=65.43976607028522, w1=7.394902850027496\n",
      "Gradient Descent(36/49): loss=45.99786144411508, w0=72.15377412920448, w1=10.135920082198997\n",
      "Gradient Descent(37/49): loss=31.24022509787706, w0=77.68689446007743, w1=11.206547955388956\n",
      "Gradient Descent(38/49): loss=0.422502420533945, w0=78.3303634741902, w1=10.77171321601615\n",
      "Gradient Descent(39/49): loss=3.7035126299711014, w0=80.23547301890716, w1=12.26057865925177\n",
      "Gradient Descent(40/49): loss=3.387365489411654, w0=82.05745495614568, w1=14.085462168937143\n",
      "Gradient Descent(41/49): loss=117.67937185369887, w0=71.31847062723334, w1=7.404456039338895\n",
      "Gradient Descent(42/49): loss=49.69104521828167, w0=78.29681028032533, w1=16.361634706844914\n",
      "Gradient Descent(43/49): loss=20.892963182013343, w0=73.77186785877198, w1=10.60983385734828\n",
      "Gradient Descent(44/49): loss=62.18925302191087, w0=65.96511001947194, w1=16.328203835817657\n",
      "Gradient Descent(45/49): loss=51.93354966025325, w0=73.09917468605916, w1=7.120558462271518\n",
      "Gradient Descent(46/49): loss=58.386915413669506, w0=80.6635105528353, w1=13.032175620613966\n",
      "Gradient Descent(47/49): loss=59.159706468009844, w0=73.04927964363314, w1=19.75709752036759\n",
      "Gradient Descent(48/49): loss=3.891123476281275, w0=75.00204716864877, w1=17.899411119232525\n",
      "Gradient Descent(49/49): loss=12.003739042859003, w0=71.57222731011366, w1=12.566798290202147\n",
      "SGD: execution time=0.030 seconds\n"
     ]
    }
   ],
   "source": [
    "# from stochastic_gradient_descent import *\n",
    "\n",
    "# Define the parameters of the algorithm.\n",
    "max_iters = 50\n",
    "gamma = 0.7\n",
    "batch_size = 1\n",
    "\n",
    "# Initialization\n",
    "w_initial = np.array([0, 0])\n",
    "\n",
    "# Start SGD.\n",
    "start_time = datetime.datetime.now()\n",
    "sgd_losses, sgd_ws = stochastic_gradient_descent(\n",
    "    y, tx, w_initial, batch_size, max_iters, gamma)\n",
    "end_time = datetime.datetime.now()\n",
    "\n",
    "# Print result\n",
    "exection_time = (end_time - start_time).total_seconds()\n",
    "print(\"SGD: execution time={t:.3f} seconds\".format(t=exection_time))"
   ]
  },
  {
   "cell_type": "code",
   "execution_count": 40,
   "metadata": {},
   "outputs": [
    {
     "data": {
      "application/vnd.jupyter.widget-view+json": {
       "model_id": "4400ff48e9174291989834c74bc4c53e",
       "version_major": 2,
       "version_minor": 0
      },
      "text/plain": [
       "interactive(children=(IntSlider(value=1, description='n_iter', max=51, min=1), Output()), _dom_classes=('widge…"
      ]
     },
     "metadata": {},
     "output_type": "display_data"
    },
    {
     "data": {
      "text/plain": [
       "<function __main__.plot_figure(n_iter)>"
      ]
     },
     "execution_count": 40,
     "metadata": {},
     "output_type": "execute_result"
    },
    {
     "data": {
      "image/png": "[encoded data removed]",
      "text/plain": [
       "<Figure size 720x432 with 3 Axes>"
      ]
     },
     "metadata": {
      "needs_background": "light"
     },
     "output_type": "display_data"
    }
   ],
   "source": [
    "# Time Visualization\n",
    "from ipywidgets import IntSlider, interact\n",
    "def plot_figure(n_iter):\n",
    "    fig = gradient_descent_visualization(\n",
    "        sgd_losses, sgd_ws, grid_losses, grid_w0, grid_w1, mean_x, std_x, height, weight, n_iter)\n",
    "    fig.set_size_inches(10.0, 6.0)\n",
    "\n",
    "interact(plot_figure, n_iter=IntSlider(min=1, max=len(gradient_ws)))"
   ]
  },
  {
   "cell_type": "markdown",
   "metadata": {},
   "source": [
    "# 5 Effect of Outliers"
   ]
  },
  {
   "cell_type": "markdown",
   "metadata": {},
   "source": [
    "### Exercise 5\n"
   ]
  },
  {
   "cell_type": "code",
   "execution_count": null,
   "metadata": {
    "collapsed": true,
    "jupyter": {
     "outputs_hidden": true
    }
   },
   "outputs": [],
   "source": [
    "# Set the boolean values to True, for subsampling and adding outlier points to the training data.\n",
    "# height, weight, gender = load_data(sub_sample=True, add_outlier=True)"
   ]
  },
  {
   "cell_type": "markdown",
   "metadata": {},
   "source": [
    "# 6 Subgradient Descent"
   ]
  },
  {
   "cell_type": "markdown",
   "metadata": {},
   "source": [
    "### Exercise 6"
   ]
  },
  {
   "cell_type": "markdown",
   "metadata": {},
   "source": [
    "Modify the function `compute_loss(y, tx, w)` for the Mean Absolute Error cost function [here](#compute_loss)"
   ]
  },
  {
   "cell_type": "code",
   "execution_count": 50,
   "metadata": {
    "tags": []
   },
   "outputs": [],
   "source": [
    "# Calculate the Min Absolute Error in terms of e\n",
    "def mae_calculation(e_term):\n",
    "    return np.mean(np.abs(e_term))\n",
    "\n",
    "# Calculate the loss\n",
    "def compute_loss(y, tx, w):\n",
    "    \"\"\"Calculate the loss.\n",
    "    You can calculate the loss using mse or mae.\n",
    "    \"\"\"\n",
    "    # ***************************************************\n",
    "    # INSERT YOUR CODE HERE\n",
    "    # TODO: compute loss by MSE\n",
    "    e_term = y - tx.dot(w)\n",
    "    loss = mae_calculation(e_term)\n",
    "    return loss\n",
    "    # ***************************************************\n",
    "    # raise NotImplementedError"
   ]
  },
  {
   "cell_type": "code",
   "execution_count": 52,
   "metadata": {},
   "outputs": [],
   "source": [
    "# Calculate the gradient for MAE loss function\n",
    "def compute_gradient(y, tx, w):\n",
    "    e_term = y - tx.dot(w)\n",
    "    no_offset_tx = np.concatenate(np.zeros(tx.shape[0],1), tx[:,1], axis=1)\n",
    "    gradient = -tx.T.dot(np.sign(e_term))/len(e_term)\n",
    "    return gradient, e_term"
   ]
  },
  {
   "cell_type": "code",
   "execution_count": 53,
   "metadata": {},
   "outputs": [],
   "source": [
    "def stochastic_gradient_descent(\n",
    "        y, tx, initial_w, batch_size, max_iters, gamma):\n",
    "    \"\"\"Stochastic gradient descent algorithm.\"\"\"\n",
    "    # ***************************************************\n",
    "    # INSERT YOUR CODE HERE\n",
    "    # TODO: implement stochastic gradient descent.\n",
    "    ws = [initial_w]\n",
    "    losses = []\n",
    "    w = initial_w\n",
    "    for index_iter in range(max_iters):\n",
    "        for y_batch, tx_batch in batch_iter(y, tx, batch_size, num_batches=1):\n",
    "            grad, _ = compute_stoch_gradient(y_batch, tx_batch, w)\n",
    "            loss = compute_loss(y_batch, tx_batch, w)\n",
    "            w = w - gamma * grad\n",
    "            ws.append(w)\n",
    "            losses.append(loss)\n",
    "        print(\"Gradient Descent({bi}/{ti}): loss={l}, w0={w0}, w1={w1}\".format(\n",
    "              bi=index_iter, ti=max_iters-1, l=loss, w0=w[0], w1=w[1]))\n",
    "    # ***************************************************\n",
    "    # raise NotImplementedError\n",
    "    return losses, ws"
   ]
  },
  {
   "cell_type": "code",
   "execution_count": 54,
   "metadata": {},
   "outputs": [
    {
     "name": "stdout",
     "output_type": "stream",
     "text": [
      "Gradient Descent(0/49): loss=81.29793408647726, w0=56.90855386053408, w1=21.96169792587271\n",
      "Gradient Descent(1/49): loss=13.977155655427978, w0=66.69256281933366, w1=31.99957849187619\n",
      "Gradient Descent(2/49): loss=10.122886069329539, w0=59.606542570802986, w1=26.003611253140875\n",
      "Gradient Descent(3/49): loss=1.7712982004201052, w0=60.84645131109706, w1=27.074417884336523\n",
      "Gradient Descent(4/49): loss=1.7490824468605695, w0=59.62209359829466, w1=26.333609313098414\n",
      "Gradient Descent(5/49): loss=28.590922226743544, w0=79.63573915701514, w1=-4.824635434680214\n",
      "Gradient Descent(6/49): loss=0.1037909794948888, w0=79.70839284266157, w1=-4.767717031985578\n",
      "Gradient Descent(7/49): loss=18.600295952649745, w0=92.72860000951638, w1=8.590333337333224\n",
      "Gradient Descent(8/49): loss=4.616176096219178, w0=89.49727674216297, w1=2.2875475074396006\n",
      "Gradient Descent(9/49): loss=33.393367553909705, w0=66.12191945442618, w1=25.779945823248926\n",
      "Gradient Descent(10/49): loss=0.3061345307853287, w0=65.90762528287645, w1=25.787690342786156\n",
      "Gradient Descent(11/49): loss=1.0974174091880542, w0=65.13943309644482, w1=24.491854707387002\n",
      "Gradient Descent(12/49): loss=19.748255121549946, w0=78.96321168152978, w1=16.672014834169346\n",
      "Gradient Descent(13/49): loss=7.994788340791459, w0=73.36685984297577, w1=11.722174378876304\n",
      "Gradient Descent(14/49): loss=8.232426663811744, w0=67.60416117830755, w1=16.865927098938798\n",
      "Gradient Descent(15/49): loss=0.17398146873669162, w0=67.72594820642324, w1=16.80587268224215\n",
      "Gradient Descent(16/49): loss=15.995675839474018, w0=78.92292129405504, w1=36.629574495262275\n",
      "Gradient Descent(17/49): loss=5.617323471591455, w0=74.99079486394102, w1=38.20202619485457\n",
      "Gradient Descent(18/49): loss=2.5197004183167877, w0=73.22700457111927, w1=38.74944875916854\n",
      "Gradient Descent(19/49): loss=6.624614308252198, w0=77.8642345868958, w1=36.197089930408175\n",
      "Gradient Descent(20/49): loss=13.644875159155802, w0=87.41564719830487, w1=30.794043525654757\n",
      "Gradient Descent(21/49): loss=6.358629021620409, w0=82.96460688317057, w1=33.534680574325776\n",
      "Gradient Descent(22/49): loss=0.22009749077881935, w0=82.8105386396254, w1=33.629544944537805\n",
      "Gradient Descent(23/49): loss=26.209419101908253, w0=64.46394526828963, w1=20.639468565998634\n",
      "Gradient Descent(24/49): loss=3.6162937395805272, w0=66.995350885996, w1=24.300742988936285\n",
      "Gradient Descent(25/49): loss=6.5302853175222, w0=71.56655060826154, w1=24.179413821281443\n",
      "Gradient Descent(26/49): loss=10.292973918292802, w0=78.7716323510665, w1=27.72501650199921\n",
      "Gradient Descent(27/49): loss=2.3743166593505975, w0=77.10961068952108, w1=27.6886712539088\n",
      "Gradient Descent(28/49): loss=3.7070082797033166, w0=74.51470489372875, w1=27.360499028423064\n",
      "Gradient Descent(29/49): loss=4.806831939286241, w0=77.87948725122912, w1=24.620796497683923\n",
      "Gradient Descent(30/49): loss=4.088897235890428, w0=75.01725918610582, w1=24.258816592477984\n",
      "Gradient Descent(31/49): loss=22.020295174640196, w0=59.60305256385768, w1=-5.749371383701085\n",
      "Gradient Descent(32/49): loss=39.87188263743511, w0=87.51337041006225, w1=27.477366905478245\n",
      "Gradient Descent(33/49): loss=15.716289422445527, w0=76.51196781435038, w1=34.26354403624445\n",
      "Gradient Descent(34/49): loss=18.388137826018998, w0=89.38366429256368, w1=19.656571044983615\n",
      "Gradient Descent(35/49): loss=19.8002396816836, w0=75.52349651538516, w1=27.795958226112006\n",
      "Gradient Descent(36/49): loss=7.540483615511469, w0=80.80183504624318, w1=22.842758051429467\n",
      "Gradient Descent(37/49): loss=11.771932340729443, w0=89.0421876847538, w1=6.90406910260613\n",
      "Gradient Descent(38/49): loss=17.740569109730686, w0=76.62378930794232, w1=-0.609793768020567\n",
      "Gradient Descent(39/49): loss=4.175184177806187, w0=73.70116038347798, w1=1.058016002949582\n",
      "Gradient Descent(40/49): loss=29.103257810013545, w0=94.07344085048746, w1=40.79471518973573\n",
      "Gradient Descent(41/49): loss=24.12744921256322, w0=77.18422640169321, w1=34.38927064755736\n",
      "Gradient Descent(42/49): loss=0.267524655664495, w0=77.37149366065836, w1=34.28619764058309\n",
      "Gradient Descent(43/49): loss=1.9363869257000346, w0=76.01602281266834, w1=34.33260477944122\n",
      "Gradient Descent(44/49): loss=27.74072104496433, w0=56.59751808119331, w1=6.2468352734614925\n",
      "Gradient Descent(45/49): loss=23.599178418133867, w0=73.116942973887, w1=18.747343068612672\n",
      "Gradient Descent(46/49): loss=9.064761066521235, w0=79.46227572045187, w1=11.00743063966733\n",
      "Gradient Descent(47/49): loss=10.403655396476395, w0=72.17971694291839, w1=23.610656905055553\n",
      "Gradient Descent(48/49): loss=3.5663095000712133, w0=74.67613359296824, w1=21.382369312502334\n",
      "Gradient Descent(49/49): loss=12.459107017411299, w0=65.95475868078033, w1=8.201689289380276\n",
      "SGD: execution time=0.051 seconds\n"
     ]
    }
   ],
   "source": [
    "# from stochastic_gradient_descent import *\n",
    "\n",
    "# Define the parameters of the algorithm.\n",
    "max_iters = 50\n",
    "gamma = 0.7\n",
    "batch_size = 1\n",
    "\n",
    "# Initialization\n",
    "w_initial = np.array([0, 0])\n",
    "\n",
    "# Start SGD.\n",
    "start_time = datetime.datetime.now()\n",
    "sgd_losses, sgd_ws = stochastic_gradient_descent(\n",
    "    y, tx, w_initial, batch_size, max_iters, gamma)\n",
    "end_time = datetime.datetime.now()\n",
    "\n",
    "# Print result\n",
    "exection_time = (end_time - start_time).total_seconds()\n",
    "print(\"SGD: execution time={t:.3f} seconds\".format(t=exection_time))"
   ]
  },
  {
   "cell_type": "code",
   "execution_count": 55,
   "metadata": {},
   "outputs": [
    {
     "data": {
      "application/vnd.jupyter.widget-view+json": {
       "model_id": "4ab864e0a6bb4fd28e3e19732238e226",
       "version_major": 2,
       "version_minor": 0
      },
      "text/plain": [
       "interactive(children=(IntSlider(value=1, description='n_iter', max=51, min=1), Output()), _dom_classes=('widge…"
      ]
     },
     "metadata": {},
     "output_type": "display_data"
    },
    {
     "data": {
      "text/plain": [
       "<function __main__.plot_figure(n_iter)>"
      ]
     },
     "execution_count": 55,
     "metadata": {},
     "output_type": "execute_result"
    },
    {
     "data": {
      "image/png": "[encoded data removed]",
      "text/plain": [
       "<Figure size 720x432 with 3 Axes>"
      ]
     },
     "metadata": {
      "needs_background": "light"
     },
     "output_type": "display_data"
    }
   ],
   "source": [
    "# Time Visualization\n",
    "from ipywidgets import IntSlider, interact\n",
    "def plot_figure(n_iter):\n",
    "    fig = gradient_descent_visualization(\n",
    "        sgd_losses, sgd_ws, grid_losses, grid_w0, grid_w1, mean_x, std_x, height, weight, n_iter)\n",
    "    fig.set_size_inches(10.0, 6.0)\n",
    "\n",
    "interact(plot_figure, n_iter=IntSlider(min=1, max=len(gradient_ws)))"
   ]
  },
  {
   "cell_type": "code",
   "execution_count": null,
   "metadata": {},
   "outputs": [],
   "source": []
  }
 ],
 "metadata": {
  "anaconda-cloud": {},
  "kernelspec": {
   "display_name": "Python 3 (ipykernel)",
   "language": "python",
   "name": "python3"
  },
  "language_info": {
   "codemirror_mode": {
    "name": "ipython",
    "version": 3
   },
   "file_extension": ".py",
   "mimetype": "text/x-python",
   "name": "python",
   "nbconvert_exporter": "python",
   "pygments_lexer": "ipython3",
   "version": "3.7.11"
  }
 },
 "nbformat": 4,
 "nbformat_minor": 4
}
