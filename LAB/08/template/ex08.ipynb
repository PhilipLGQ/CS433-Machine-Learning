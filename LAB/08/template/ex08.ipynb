{
  "nbformat": 4,
  "nbformat_minor": 0,
  "metadata": {
    "kernelspec": {
      "display_name": "Python 3",
      "language": "python",
      "name": "python3"
    },
    "language_info": {
      "codemirror_mode": {
        "name": "ipython",
        "version": 3
      },
      "file_extension": ".py",
      "mimetype": "text/x-python",
      "name": "python",
      "nbconvert_exporter": "python",
      "pygments_lexer": "ipython3",
      "version": "3.7.11"
    },
    "colab": {
      "name": "ex08.ipynb",
      "provenance": []
    },
    "accelerator": "GPU"
  },
  "cells": [
    {
      "cell_type": "code",
      "metadata": {
        "id": "dFPrtumtvJoW"
      },
      "source": [
        "# Useful starting lines\n",
        "%matplotlib inline\n",
        "import numpy as np\n",
        "import matplotlib.pyplot as plt\n",
        "import torch\n",
        "import torch.nn as nn\n",
        "from torch.autograd import Variable\n",
        "from test_utils import test\n",
        "%load_ext autoreload\n",
        "%autoreload 2"
      ],
      "execution_count": 1,
      "outputs": []
    },
    {
      "cell_type": "code",
      "metadata": {
        "id": "tYkvmnL_vJoY"
      },
      "source": [
        "# Defining a toy dataset\n",
        "x_train = np.array([[3.3], [4.4], [5.5], [6.71], [6.93], [4.168], \n",
        "                    [9.779], [6.182], [7.59], [2.167], [7.042], \n",
        "                    [10.791], [5.313], [7.997], [3.1]], dtype=np.float32)\n",
        "\n",
        "y_train = np.array([[1.7], [2.76], [2.09], [3.19], [1.694], [1.573], \n",
        "                    [3.366], [2.596], [2.53], [1.221], [2.827], \n",
        "                        [3.465], [1.65], [2.904], [1.3]], dtype=np.float32)"
      ],
      "execution_count": 2,
      "outputs": []
    },
    {
      "cell_type": "markdown",
      "metadata": {
        "id": "NtSYgvAKvJoZ"
      },
      "source": [
        "## Linear regression"
      ]
    },
    {
      "cell_type": "code",
      "metadata": {
        "id": "htQwhaSjvJoZ"
      },
      "source": [
        "class MyLinearRegression:\n",
        "    \"\"\"implementation of a linear regression model with 1d input with a similar signature as nn.Module\n",
        "    \"\"\"\n",
        "    def __init__(self):\n",
        "        # TODO: Define the parameters of the model (weights and biases) and initialize them\n",
        "        self.w = torch.tensor([0.], requires_grad=True)\n",
        "        self.b = torch.tensor([0.], requires_grad=True)        \n",
        "        \n",
        "    def forward(self, x):\n",
        "        \"\"\"compute predictions based on the inputs.\n",
        "        Inputs:\n",
        "            x: torch.Tensor of floats, shape (n) where n is the size of batch\n",
        "        \n",
        "        Returns:\n",
        "            tensor of floats, shape (n)\n",
        "            \n",
        "        >>> model = MyLinearRegression()  \n",
        "        >>> def test():\n",
        "        ...   model.w.data.fill_(2)\n",
        "        ...   model.b.data.fill_(3)\n",
        "        ...   return model(torch.tensor([0.0, 1.0, 2.0])).tolist()\n",
        "        >>> test()\n",
        "        [3.0, 5.0, 7.0]\n",
        "        \"\"\" \n",
        "        return self.w * x + self.b\n",
        "    \n",
        "    def parameters(self):\n",
        "        \"\"\"returns a list of model's parameters \n",
        "        \n",
        "        Returns:\n",
        "            list of model parameters\n",
        "            \n",
        "        >>> model = MyLinearRegression()  \n",
        "        >>> model.b in model.parameters() and model.w in model.parameters()\n",
        "        True\n",
        "        \"\"\"\n",
        "        # TODO: this function should return a list of parameters of the model\n",
        "        return [self.w, self.b]\n",
        "    \n",
        "    def __call__(self, x):\n",
        "        # Convenience function\n",
        "        return self.forward(x)"
      ],
      "execution_count": 8,
      "outputs": []
    },
    {
      "cell_type": "code",
      "metadata": {
        "colab": {
          "base_uri": "https://localhost:8080/"
        },
        "id": "AW9LdZtUvJoa",
        "outputId": "f0fa5f07-b049-4c1b-bb88-6d4cc89114d4"
      },
      "source": [
        "test(MyLinearRegression.forward)\n",
        "test(MyLinearRegression.parameters)"
      ],
      "execution_count": 9,
      "outputs": [
        {
          "output_type": "stream",
          "name": "stdout",
          "text": [
            "✅ Your `forward` passes some basic tests.\n",
            "✅ Your `parameters` passes some basic tests.\n"
          ]
        }
      ]
    },
    {
      "cell_type": "code",
      "metadata": {
        "id": "0Hpi_LzJvJoa"
      },
      "source": [
        "def mselossfunc(pred, y):\n",
        "    \"\"\"the MSE loss function\n",
        "    Inputs:\n",
        "        pred: tensor of floats, shape (n)\n",
        "        y: tensor of floats, shape (n)\n",
        "    \n",
        "    Returns:\n",
        "        a single-element tensor, the average of MSEs\n",
        "    \n",
        "    >>> mselossfunc(torch.tensor([1., 3.]), torch.tensor([3., 2.])).tolist()\n",
        "    2.5\n",
        "    \"\"\"\n",
        "    mse_loss = pow(pred - y, 2).mean()\n",
        "    return mse_loss"
      ],
      "execution_count": 10,
      "outputs": []
    },
    {
      "cell_type": "code",
      "metadata": {
        "colab": {
          "base_uri": "https://localhost:8080/"
        },
        "id": "h78kIX4yvJoa",
        "outputId": "642d9273-1363-4642-c7b1-83d900434f48"
      },
      "source": [
        "test(mselossfunc)"
      ],
      "execution_count": 11,
      "outputs": [
        {
          "output_type": "stream",
          "name": "stdout",
          "text": [
            "✅ Your `mselossfunc` passes some basic tests.\n"
          ]
        }
      ]
    },
    {
      "cell_type": "code",
      "metadata": {
        "id": "JELYT20pvJob"
      },
      "source": [
        "def train(features, labels, model, lossfunc, optimizer, num_epoch):\n",
        "    \n",
        "    \"\"\"train a model for num_epoch epochs on the given data\n",
        "    \n",
        "    Inputs:\n",
        "        features: a numpy array\n",
        "        labels: a numpy array\n",
        "        model: an instance of nn.Module (or classes with similar signature)\n",
        "        lossfunc: a function : (prediction outputs, correct outputs) -> loss\n",
        "        optimizer: an instance of torch.optim.Optimizer\n",
        "        num_epoch: an int\n",
        "    \"\"\"\n",
        "\n",
        "    for epoch in range(num_epoch):\n",
        "        # TODO: Step 1 - create torch variables corresponding to features and labels\n",
        "        feature = torch.from_numpy(features)\n",
        "        label = torch.from_numpy(labels)\n",
        "\n",
        "        # TODO: Step 2 - compute model predictions and loss\n",
        "        pred = model(feature)\n",
        "        loss = lossfunc(pred, label)\n",
        "        \n",
        "        # TODO: Step 3 - do a backward pass and a gradient update step\n",
        "        # Hint: Do not forget to first clear the gradients from the previous rounds\n",
        "        optimizer.zero_grad()\n",
        "        loss.backward()\n",
        "        optimizer.step()\n",
        "        \n",
        "        if epoch % 10 == 0:\n",
        "            print ('Epoch [%d/%d], Loss: %.4f' %(epoch+1, num_epoch, loss.item()))\n",
        "        \n",
        "        \n",
        "def visualize(x_train, y_train, model):\n",
        "    # A convenience function for visualizing predictions given by the model\n",
        "\n",
        "    predicted = model(torch.from_numpy(x_train)).data.numpy()\n",
        "    order = np.argsort(x_train, axis=0)\n",
        "    plt.plot(x_train[order].flatten(), y_train[order].flatten(), 'ro', label='Original data')\n",
        "    plt.plot(x_train[order].flatten(), predicted[order].flatten(), label='Fitted line')\n",
        "    plt.legend()\n",
        "    plt.show()"
      ],
      "execution_count": 12,
      "outputs": []
    },
    {
      "cell_type": "code",
      "metadata": {
        "colab": {
          "base_uri": "https://localhost:8080/",
          "height": 354
        },
        "id": "LYK7l-c7vJob",
        "outputId": "eb752f5b-6c21-406e-ee6a-537a66eca443"
      },
      "source": [
        "# Training and visualizing predictions made by linear regression model\n",
        "model = MyLinearRegression()\n",
        "optimizer = torch.optim.SGD(model.parameters(), lr=1e-3)\n",
        "\n",
        "train(features=x_train,\n",
        "      labels=y_train,\n",
        "      model=model,\n",
        "      lossfunc=mselossfunc, \n",
        "      optimizer=optimizer,\n",
        "      num_epoch=50)\n",
        "visualize(x_train, y_train, model)"
      ],
      "execution_count": 13,
      "outputs": [
        {
          "output_type": "stream",
          "name": "stdout",
          "text": [
            "Epoch [1/50], Loss: 5.9467\n",
            "Epoch [11/50], Loss: 1.1699\n",
            "Epoch [21/50], Loss: 0.3857\n",
            "Epoch [31/50], Loss: 0.2567\n",
            "Epoch [41/50], Loss: 0.2352\n"
          ]
        },
        {
          "output_type": "display_data",
          "data": {
            "image/png": "[encoded data removed]",
            "text/plain": [
              "<Figure size 432x288 with 1 Axes>"
            ]
          },
          "metadata": {
            "needs_background": "light"
          }
        }
      ]
    },
    {
      "cell_type": "markdown",
      "metadata": {
        "id": "7xDLA0ftvJob"
      },
      "source": [
        "## Linear Regression (as nn.Module)"
      ]
    },
    {
      "cell_type": "code",
      "metadata": {
        "id": "PSDxnUR1vJob"
      },
      "source": [
        "class NNLinearRegression(nn.Module):\n",
        "    \"\"\"implementation of a linear regression model with 1d input as a nn.Module\n",
        "    \"\"\"\n",
        "    def __init__(self):\n",
        "        # TODO: call the super class init function. PyTorch needs this to initialize the model.\n",
        "        super().__init__()\n",
        "\n",
        "        # TODO: Define the parameters of the model (weights and biases) and initialize them\n",
        "        self.w = nn.Parameter(torch.tensor([0.], requires_grad=True))\n",
        "        self.b = nn.Parameter(torch.tensor([0.], requires_grad=True))\n",
        "        \n",
        "        \n",
        "    def forward(self, x):\n",
        "        \"\"\"compute predictions based on the inputs.\n",
        "        Inputs:\n",
        "            x: torch.Tensor of floats, shape (n) where n is the size of batch\n",
        "        \n",
        "        Returns:\n",
        "            tensor of floats, shape (n)\n",
        "            \n",
        "        >>> model = MyLinearRegression()  \n",
        "        >>> def test():\n",
        "        ...   model.w.data.fill_(2)\n",
        "        ...   model.b.data.fill_(3)\n",
        "        ...   return model(torch.tensor([0.0, 1.0, 2.0])).tolist()\n",
        "        >>> test()\n",
        "        [3.0, 5.0, 7.0]\n",
        "        \"\"\" \n",
        "        return self.w * x + self.b"
      ],
      "execution_count": 21,
      "outputs": []
    },
    {
      "cell_type": "code",
      "metadata": {
        "colab": {
          "base_uri": "https://localhost:8080/"
        },
        "id": "u9nxeU_rvJoc",
        "outputId": "d495444f-c337-4eec-e741-c349009d9b40"
      },
      "source": [
        "test(NNLinearRegression.forward)"
      ],
      "execution_count": 22,
      "outputs": [
        {
          "output_type": "stream",
          "name": "stdout",
          "text": [
            "✅ Your `forward` passes some basic tests.\n"
          ]
        }
      ]
    },
    {
      "cell_type": "code",
      "metadata": {
        "colab": {
          "base_uri": "https://localhost:8080/",
          "height": 354
        },
        "id": "Qzo3Qjy5vJoc",
        "outputId": "6af7afc6-6dcd-450f-804c-25010e7f06b7"
      },
      "source": [
        "# Training and visualizing predictions made by linear regression model\n",
        "model = NNLinearRegression()\n",
        "optimizer = torch.optim.SGD(model.parameters(), lr=1e-3)\n",
        "\n",
        "train(features=x_train,\n",
        "      labels=y_train,\n",
        "      model=model,\n",
        "      lossfunc=mselossfunc, \n",
        "      optimizer=optimizer,\n",
        "      num_epoch=50)\n",
        "visualize(x_train, y_train, model)"
      ],
      "execution_count": 23,
      "outputs": [
        {
          "output_type": "stream",
          "name": "stdout",
          "text": [
            "Epoch [1/50], Loss: 5.9467\n",
            "Epoch [11/50], Loss: 1.1699\n",
            "Epoch [21/50], Loss: 0.3857\n",
            "Epoch [31/50], Loss: 0.2567\n",
            "Epoch [41/50], Loss: 0.2352\n"
          ]
        },
        {
          "output_type": "display_data",
          "data": {
            "image/png": "[encoded data removed]",
            "text/plain": [
              "<Figure size 432x288 with 1 Axes>"
            ]
          },
          "metadata": {
            "needs_background": "light"
          }
        }
      ]
    },
    {
      "cell_type": "markdown",
      "metadata": {
        "id": "CK9VZupKvJoc"
      },
      "source": [
        "## Linear Regression (using nn package)"
      ]
    },
    {
      "cell_type": "code",
      "metadata": {
        "colab": {
          "base_uri": "https://localhost:8080/",
          "height": 438
        },
        "id": "LMqiaK92vJoc",
        "outputId": "ee255533-c146-43e7-8b54-60f337fcbb44"
      },
      "source": [
        "# Training and visualizing predictions made by linear regression model (nn package)\n",
        "\n",
        "# TODO: Using pre-existing modules from nn package, create a 1d linear regression model\n",
        "model = nn.Linear(1, 1)\n",
        "\n",
        "\n",
        "# TODO: use loss function from nn package\n",
        "lossfunc = nn.MSELoss()\n",
        "\n",
        "\n",
        "optimizer = torch.optim.SGD(model.parameters(), lr=1e-3)\n",
        "\n",
        "train(features=x_train,\n",
        "      labels=y_train,\n",
        "      model=model,\n",
        "      lossfunc=lossfunc,\n",
        "      optimizer=optimizer,\n",
        "      num_epoch=100)\n",
        "visualize(x_train, y_train, model)"
      ],
      "execution_count": 24,
      "outputs": [
        {
          "output_type": "stream",
          "name": "stdout",
          "text": [
            "Epoch [1/100], Loss: 7.4066\n",
            "Epoch [11/100], Loss: 1.3575\n",
            "Epoch [21/100], Loss: 0.3647\n",
            "Epoch [31/100], Loss: 0.2018\n",
            "Epoch [41/100], Loss: 0.1750\n",
            "Epoch [51/100], Loss: 0.1706\n",
            "Epoch [61/100], Loss: 0.1699\n",
            "Epoch [71/100], Loss: 0.1698\n",
            "Epoch [81/100], Loss: 0.1697\n",
            "Epoch [91/100], Loss: 0.1697\n"
          ]
        },
        {
          "output_type": "display_data",
          "data": {
            "image/png": "[encoded data removed]",
            "text/plain": [
              "<Figure size 432x288 with 1 Axes>"
            ]
          },
          "metadata": {
            "needs_background": "light"
          }
        }
      ]
    },
    {
      "cell_type": "markdown",
      "metadata": {
        "id": "JWJMXegWvJoc"
      },
      "source": [
        "## MLP"
      ]
    },
    {
      "cell_type": "code",
      "metadata": {
        "colab": {
          "base_uri": "https://localhost:8080/",
          "height": 786
        },
        "id": "hLj28-PvvJod",
        "outputId": "28369ccd-bde9-4b3f-ae0d-9f4529ae82ee"
      },
      "source": [
        "class MLP(nn.Module):\n",
        "    def __init__(self, hidden_size):\n",
        "        super(MLP, self).__init__()\n",
        "        # TODO: Define parameters / layers of a multi-layered perceptron with one hidden layer\n",
        "        self.l1 = nn.Linear(1, hidden_size)\n",
        "        self.activation = nn.ReLU()\n",
        "        self.l2 = nn.Linear(hidden_size, 1)\n",
        "    \n",
        "    def forward(self, x):\n",
        "        # TODO: implement forward computation\n",
        "        output = self.l2(self.activation(self.l1(x)))\n",
        "        return output\n",
        "    \n",
        "# TODO: Play with learning rate, hidden size, and optimizer type for multi-layered perceptron\n",
        "hidden_size = 3\n",
        "learning_rate = 0.01\n",
        "\n",
        "model = MLP(hidden_size=hidden_size)\n",
        "\n",
        "optimizer = torch.optim.Adam(model.parameters(), lr=learning_rate)\n",
        "\n",
        "train(features=x_train,\n",
        "      labels=y_train,\n",
        "      model=model,\n",
        "      lossfunc=lossfunc,\n",
        "      optimizer=optimizer,\n",
        "      num_epoch=300)\n",
        "visualize(x_train, y_train, model)"
      ],
      "execution_count": 28,
      "outputs": [
        {
          "output_type": "stream",
          "name": "stdout",
          "text": [
            "Epoch [1/300], Loss: 6.4035\n",
            "Epoch [11/300], Loss: 4.3430\n",
            "Epoch [21/300], Loss: 2.2354\n",
            "Epoch [31/300], Loss: 0.6998\n",
            "Epoch [41/300], Loss: 0.2119\n",
            "Epoch [51/300], Loss: 0.2524\n",
            "Epoch [61/300], Loss: 0.2248\n",
            "Epoch [71/300], Loss: 0.2106\n",
            "Epoch [81/300], Loss: 0.1833\n",
            "Epoch [91/300], Loss: 0.1766\n",
            "Epoch [101/300], Loss: 0.1722\n",
            "Epoch [111/300], Loss: 0.1701\n",
            "Epoch [121/300], Loss: 0.1692\n",
            "Epoch [131/300], Loss: 0.1689\n",
            "Epoch [141/300], Loss: 0.1689\n",
            "Epoch [151/300], Loss: 0.1689\n",
            "Epoch [161/300], Loss: 0.1689\n",
            "Epoch [171/300], Loss: 0.1689\n",
            "Epoch [181/300], Loss: 0.1689\n",
            "Epoch [191/300], Loss: 0.1689\n",
            "Epoch [201/300], Loss: 0.1689\n",
            "Epoch [211/300], Loss: 0.1689\n",
            "Epoch [221/300], Loss: 0.1689\n",
            "Epoch [231/300], Loss: 0.1689\n",
            "Epoch [241/300], Loss: 0.1689\n",
            "Epoch [251/300], Loss: 0.1689\n",
            "Epoch [261/300], Loss: 0.1689\n",
            "Epoch [271/300], Loss: 0.1689\n",
            "Epoch [281/300], Loss: 0.1689\n",
            "Epoch [291/300], Loss: 0.1689\n"
          ]
        },
        {
          "output_type": "display_data",
          "data": {
            "image/png": "[encoded data removed]",
            "text/plain": [
              "<Figure size 432x288 with 1 Axes>"
            ]
          },
          "metadata": {
            "needs_background": "light"
          }
        }
      ]
    },
    {
      "cell_type": "markdown",
      "metadata": {
        "id": "YNjV7Hc5vJod"
      },
      "source": [
        "## Reproducibility\n",
        "Since parameters are usually initialized randomly, \n",
        "running the same code twice will produce different outputs.\n",
        "This makes it hard to debug the code or re-use it in the future by others.\n",
        "To alleviate this problem, we can manually set the random seed at the beginning of the code. "
      ]
    },
    {
      "cell_type": "code",
      "metadata": {
        "id": "_wElP49AvJod"
      },
      "source": [
        "\"\"\"\n",
        "Set the numpy and torch random seed to a fixed number. \n",
        "\"\"\"\n",
        "def set_seed(seed):\n",
        "    \"\"\"\n",
        "    >>> set_seed(45)\n",
        "    >>> x = torch.randn(1).item()\n",
        "    >>> set_seed(45)\n",
        "    >>> torch.randn(1).item() == x\n",
        "    True\n",
        "    \"\"\"\n",
        "    torch.manual_seed(45)"
      ],
      "execution_count": 30,
      "outputs": []
    },
    {
      "cell_type": "code",
      "metadata": {
        "colab": {
          "base_uri": "https://localhost:8080/"
        },
        "id": "7inCEKdWvJod",
        "outputId": "3487ef25-a449-4551-e839-77c91f005ea0"
      },
      "source": [
        "test(set_seed)"
      ],
      "execution_count": 31,
      "outputs": [
        {
          "output_type": "stream",
          "name": "stdout",
          "text": [
            "✅ Your `set_seed` passes some basic tests.\n"
          ]
        }
      ]
    }
  ]
}