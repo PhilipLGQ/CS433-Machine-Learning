{
  "nbformat": 4,
  "nbformat_minor": 0,
  "metadata": {
    "anaconda-cloud": {},
    "kernelspec": {
      "display_name": "Python 3",
      "language": "python",
      "name": "python3"
    },
    "language_info": {
      "codemirror_mode": {
        "name": "ipython",
        "version": 3
      },
      "file_extension": ".py",
      "mimetype": "text/x-python",
      "name": "python",
      "nbconvert_exporter": "python",
      "pygments_lexer": "ipython3",
      "version": "3.6.3"
    },
    "colab": {
      "name": "ex09.ipynb",
      "provenance": []
    },
    "accelerator": "GPU"
  },
  "cells": [
    {
      "cell_type": "code",
      "metadata": {
        "jupyter": {
          "outputs_hidden": true
        },
        "colab": {
          "base_uri": "https://localhost:8080/"
        },
        "id": "QreRCPH_c5VY",
        "outputId": "481ef026-3b97-4589-be28-e279ec3a1a36"
      },
      "source": [
        "# Useful starting lines\n",
        "%matplotlib inline\n",
        "\n",
        "import numpy as np\n",
        "import scipy\n",
        "import scipy.io\n",
        "import scipy.sparse as sp\n",
        "import matplotlib.pyplot as plt\n",
        "%load_ext autoreload\n",
        "%autoreload 2\n",
        "from test_utils import test"
      ],
      "execution_count": 2,
      "outputs": [
        {
          "output_type": "stream",
          "name": "stdout",
          "text": [
            "The autoreload extension is already loaded. To reload it, use:\n",
            "  %reload_ext autoreload\n"
          ]
        }
      ]
    },
    {
      "cell_type": "markdown",
      "metadata": {
        "id": "qYY6Zxmbc5Vc"
      },
      "source": [
        "Implement the sigmoid activation function."
      ]
    },
    {
      "cell_type": "code",
      "metadata": {
        "jupyter": {
          "outputs_hidden": false
        },
        "id": "-HzlE64dc5Vf"
      },
      "source": [
        "def sigmoid(t):\n",
        "    \"\"\"Apply sigmoid function on t.\n",
        "\n",
        "    Args:\n",
        "        t: scalar or numpy array\n",
        "\n",
        "    Returns:\n",
        "        scalar or numpy array\n",
        "\n",
        "    >>> sigmoid(np.array([0.1]))\n",
        "    array([0.52497919])\n",
        "    >>> sigmoid(np.array([0.1, 0.1]))\n",
        "    array([0.52497919, 0.52497919])\n",
        "    \"\"\"\n",
        "    # ***************************************************\n",
        "    # TODO: INSERT YOUR CODE HERE\n",
        "    sigmoid = 1.0 / (1.0 + np.exp(-t))\n",
        "    return sigmoid\n",
        "    # ***************************************************\n",
        "    \n",
        "def grad_sigmoid(t):\n",
        "    \"\"\"Return the gradient of sigmoid on t.\n",
        "    \n",
        "    Args:\n",
        "        t: scalar or numpy array\n",
        "        \n",
        "    Returns:\n",
        "        scalar or numpy array\n",
        "        \n",
        "    >>> grad_sigmoid(np.array([0.1]))\n",
        "    array([0.24937604])\n",
        "    >>> grad_sigmoid(np.array([0.1, 0.1]))\n",
        "    array([0.24937604, 0.24937604])\n",
        "    \"\"\"\n",
        "    # ***************************************************\n",
        "    # TODO: INSERT YOUR CODE HERE\n",
        "    grad_sigmoid = sigmoid(t) * (1 - sigmoid(t))\n",
        "    return grad_sigmoid\n",
        "    # ***************************************************"
      ],
      "execution_count": 16,
      "outputs": []
    },
    {
      "cell_type": "code",
      "metadata": {
        "colab": {
          "base_uri": "https://localhost:8080/"
        },
        "id": "GmddBGoqc5Vh",
        "outputId": "c7f54cbd-53af-4b35-e2c8-446d5ed51a89"
      },
      "source": [
        "test(sigmoid)"
      ],
      "execution_count": 4,
      "outputs": [
        {
          "output_type": "stream",
          "name": "stderr",
          "text": [
            "\n",
            "PYDEV DEBUGGER WARNING:\n",
            "sys.settrace() should not be used when the debugger is being used.\n",
            "This may cause the debugger to stop working correctly.\n",
            "If this is needed, please check: \n",
            "http://pydev.blogspot.com/2007/06/why-cant-pydev-debugger-work-with.html\n",
            "to see how to restore the debug tracing back correctly.\n",
            "Call Location:\n",
            "  File \"/usr/lib/python3.7/doctest.py\", line 1487, in run\n",
            "    sys.settrace(save_trace)\n",
            "\n"
          ]
        },
        {
          "output_type": "stream",
          "name": "stdout",
          "text": [
            "✅ Your `sigmoid` passes some basic tests.\n"
          ]
        }
      ]
    },
    {
      "cell_type": "code",
      "metadata": {
        "colab": {
          "base_uri": "https://localhost:8080/"
        },
        "id": "8pL5W6ofc5Vi",
        "outputId": "99f8c6fa-8b24-46ac-f833-77d06bc713c6"
      },
      "source": [
        "test(grad_sigmoid)"
      ],
      "execution_count": 5,
      "outputs": [
        {
          "output_type": "stream",
          "name": "stdout",
          "text": [
            "✅ Your `grad_sigmoid` passes some basic tests.\n"
          ]
        }
      ]
    },
    {
      "cell_type": "markdown",
      "metadata": {
        "id": "CFK1I9gUc5Vj"
      },
      "source": [
        "Note that you are working on a three-layer neural network with one input layer of size $D=4$, $L=1$ hidden layer with size $K=5$, and one output layer with size 1.\n",
        "\n",
        "Initialize the data."
      ]
    },
    {
      "cell_type": "code",
      "metadata": {
        "jupyter": {
          "outputs_hidden": false
        },
        "id": "JTwFmWe9c5Vj"
      },
      "source": [
        "x = np.array([0.01, 0.02, 0.03, 0.04])\n",
        "W = {\n",
        "    \"w_1\": np.ones((4, 5)),\n",
        "    \"w_2\": np.ones(5)\n",
        "}\n",
        "y = 1"
      ],
      "execution_count": 6,
      "outputs": []
    },
    {
      "cell_type": "markdown",
      "metadata": {
        "id": "rfIVt2VTc5Vk"
      },
      "source": [
        "# Problem 1: Feed-forward in neural network\n",
        "\n",
        "Implement the neural network described by Equation 1 of the exercise sheet."
      ]
    },
    {
      "cell_type": "code",
      "metadata": {
        "jupyter": {
          "outputs_hidden": false
        },
        "colab": {
          "base_uri": "https://localhost:8080/"
        },
        "id": "nkCBzyuvc5Vl",
        "outputId": "aeca9167-45f1-4e71-bfb4-de42ba6a6b9b"
      },
      "source": [
        "def simple_feed_forward(x, W):\n",
        "    \"\"\"Do feed-forward propagation.\n",
        "    \n",
        "    Args:\n",
        "        x: numpy array of shape (D, )\n",
        "        W: a dictionary of numpy array, with two elements, w_1 and w_2.\n",
        "            w_1: shape=(D, K)\n",
        "            w_2: shape=(K, )\n",
        "        \n",
        "    Returns:\n",
        "        z1: a numpy array, generated from the hidden layer (before the sigmoid function) \n",
        "        z2: scalar number, generated from the output layer (before the sigmoid function)\n",
        "        y_hat: a scalar (after the sigmoid function)\n",
        "        \n",
        "    >>> x = np.array([0.01, 0.02, 0.03, 0.04])\n",
        "    >>> W = {\"w_1\": np.ones((4, 5)), \"w_2\": np.ones(5)}\n",
        "    >>> z1, z2, y_hat = simple_feed_forward(x, W)\n",
        "    >>> z1\n",
        "    array([0.1, 0.1, 0.1, 0.1, 0.1])\n",
        "    >>> z2\n",
        "    2.6248959373947\n",
        "    >>> y_hat\n",
        "    0.932446754272157\n",
        "    \"\"\"\n",
        "    # ***************************************************\n",
        "    # TODO: INSERT YOUR CODE HERE\n",
        "    x_in = x\n",
        "    z_1 = W[\"w_1\"].T @ x_in\n",
        "    x_1 = sigmoid(z_1)\n",
        "    z_2 = W[\"w_2\"].T @ x_1\n",
        "    y_hat = sigmoid(z_2)\n",
        "\n",
        "    # ***************************************************\n",
        "    return z_1, z_2, y_hat\n",
        "\n",
        "try:\n",
        "    expected = 0.93244675427215695\n",
        "    _, _, yours = simple_feed_forward(x, W)\n",
        "    assert np.sum((yours - expected) ** 2) < 1e-15\n",
        "    print(\"Your implementation is correct!\")\n",
        "except:\n",
        "    print(\"Your implementation is not correct.\")"
      ],
      "execution_count": 27,
      "outputs": [
        {
          "output_type": "stream",
          "name": "stdout",
          "text": [
            "Your implementation is correct!\n"
          ]
        }
      ]
    },
    {
      "cell_type": "code",
      "metadata": {
        "id": "Izg-cVqnc5Vl"
      },
      "source": [
        "test(simple_feed_forward)"
      ],
      "execution_count": null,
      "outputs": []
    },
    {
      "cell_type": "markdown",
      "metadata": {
        "id": "q_xI1UaRc5Vm"
      },
      "source": [
        "# Problem 2: Backpropagation in neural network\n",
        "\n",
        "Implement your derivation of backpropagation. \n",
        "\n",
        "*Hint*: You might want to slightly change `simple_feed_forward`."
      ]
    },
    {
      "cell_type": "code",
      "metadata": {
        "jupyter": {
          "outputs_hidden": false
        },
        "colab": {
          "base_uri": "https://localhost:8080/"
        },
        "id": "lqYukwhRc5Vm",
        "outputId": "2a98d97e-c731-43d0-8b70-46313ab5f085"
      },
      "source": [
        "def simple_backpropagation(y, x, W):\n",
        "    \"\"\"Do backpropagation and get delta_W.\n",
        "    \n",
        "    Args:\n",
        "        y: scalar number\n",
        "        x: numpy array of shape (D, )\n",
        "        W: a dictionary of numpy array, with two elements, w_1 and w_2.\n",
        "            w_1: shape=(D, K)\n",
        "            w_2: shape=(K, )\n",
        "        \n",
        "    Returns:\n",
        "        grad_W: a dictionary of numpy array. It corresponds to the gradient of weights in W.\n",
        "        \n",
        "        \n",
        "    >>> y = 1\n",
        "    >>> x = np.array([0.01, 0.02, 0.03, 0.04])\n",
        "    >>> W = {\"w_1\": np.ones((4, 5)), \"w_2\": np.ones(5)}\n",
        "    >>> grad_W = simple_backpropagation(y, x, W)\n",
        "    \"\"\"\n",
        "    # ***************************************************\n",
        "    # TODO: INSERT YOUR CODE HERE\n",
        "    z_1, z_2, y_hat = simple_feed_forward(x, W)\n",
        "    x_1 = sigmoid(z_1)\n",
        "\n",
        "    delta_2 = (y_hat - y) * grad_sigmoid(z_2)\n",
        "    delta_w_2 = delta_2 * x_1\n",
        "    delta_1 = delta_2 * W[\"w_2\"] * grad_sigmoid(z_1)\n",
        "    delta_w_1 = np.outer(x, delta_1)\n",
        "\n",
        "    # ***************************************************  \n",
        "    return {\n",
        "        \"w_1\": delta_w_1,\n",
        "        \"w_2\": delta_w_2\n",
        "    }\n",
        "    \n",
        "try:\n",
        "    expected = {\n",
        "        'w_1': np.array([\n",
        "            [ -1.06113639e-05,  -1.06113639e-05,  -1.06113639e-05, -1.06113639e-05,  -1.06113639e-05],\n",
        "            [ -2.12227277e-05,  -2.12227277e-05,  -2.12227277e-05, -2.12227277e-05,  -2.12227277e-05],\n",
        "            [ -3.18340916e-05,  -3.18340916e-05,  -3.18340916e-05, -3.18340916e-05,  -3.18340916e-05],\n",
        "            [ -4.24454555e-05,  -4.24454555e-05,  -4.24454555e-05, -4.24454555e-05,  -4.24454555e-05]]),\n",
        "        'w_2': np.array(\n",
        "            [-0.00223387, -0.00223387, -0.00223387, -0.00223387, -0.00223387])\n",
        "    }\n",
        "    yours = simple_backpropagation(y, x, W)    \n",
        "    assert np.sum(\n",
        "        [np.sum((yours[key] - expected[key]) ** 2)\n",
        "         for key in expected.keys()]) < 1e-15\n",
        "    print(\"Your implementation is correct!\")\n",
        "except:\n",
        "    print(\"Your implementation is not correct!\")"
      ],
      "execution_count": 35,
      "outputs": [
        {
          "output_type": "stream",
          "name": "stdout",
          "text": [
            "Your implementation is correct!\n"
          ]
        }
      ]
    },
    {
      "cell_type": "code",
      "metadata": {
        "id": "VpwYm-Mpc5Vn"
      },
      "source": [
        "test(simple_backpropagation)"
      ],
      "execution_count": null,
      "outputs": []
    }
  ]
}